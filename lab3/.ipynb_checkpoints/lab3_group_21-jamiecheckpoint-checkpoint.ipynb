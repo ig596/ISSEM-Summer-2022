{
 "cells": [
  {
   "cell_type": "markdown",
   "metadata": {
    "pycharm": {
     "name": "#%% md\n"
    }
   },
   "source": [
    "# Lab 3\n",
    "Group Members: (Andrew Quijano, afq2003), (Isaiah Genis | ig596), (Jamie Leach | jhl925), (Yevhen Pankevych | yp2525)"
   ]
  },
  {
   "cell_type": "markdown",
   "metadata": {
    "pycharm": {
     "name": "#%% md\n"
    }
   },
   "source": [
    "## Problem 1\n",
    "Answer Following Questions:  \n",
    "a) Download the product sales data from the below link:  \n",
    "https://drive.google.com/file/d/19Xu297MPLVFTR2VuvDLUPRi3o36ijqW6/view?usp=sharing  \n",
    "\n",
    "\n",
    "Using Matplotlib library, plot the sales of each product for whole year (Y axis- Sales and X axis- Month). Use Dashed line for plot and different colors for each product.\n",
    "\n",
    "b) Using Math library calculate the following:\n",
    "- Ceiling of 435/6.\n",
    "- Floor of 2667/8.\n",
    "- Factorial of 25.\n",
    "- Sum of the elements of array:\n",
    "- [0.2, 0.33, 0.12, 0.57, 341.1, 23.77, 11.919, 9.1, 10.4, 4.4]\n",
    "\n",
    "c) Use time library to find what time following tuple represents:  \n",
    "t = (2007, 8, 10, 14, 20, 6, 7, 258, 0)  \n",
    "\n",
    "d) What is socket library in Python? Why is it used? Give one brief example.  \n",
    "\n",
    "e) What is multithreading?  \n",
    "Using Threading library, write a Python program to calculate the factorial of number 21 and square root of number 91.  "
   ]
  },
  {
   "cell_type": "code",
   "execution_count": 6,
   "metadata": {
    "pycharm": {
     "name": "#%%\n"
    }
   },
   "outputs": [
    {
     "ename": "KeyError",
     "evalue": "'bathinsoap'",
     "output_type": "error",
     "traceback": [
      "\u001b[1;31m---------------------------------------------------------------------------\u001b[0m",
      "\u001b[1;31mKeyError\u001b[0m                                  Traceback (most recent call last)",
      "\u001b[1;32m~\\anaconda3\\lib\\site-packages\\pandas\\core\\indexes\\base.py\u001b[0m in \u001b[0;36mget_loc\u001b[1;34m(self, key, method, tolerance)\u001b[0m\n\u001b[0;32m   3360\u001b[0m             \u001b[1;32mtry\u001b[0m\u001b[1;33m:\u001b[0m\u001b[1;33m\u001b[0m\u001b[1;33m\u001b[0m\u001b[0m\n\u001b[1;32m-> 3361\u001b[1;33m                 \u001b[1;32mreturn\u001b[0m \u001b[0mself\u001b[0m\u001b[1;33m.\u001b[0m\u001b[0m_engine\u001b[0m\u001b[1;33m.\u001b[0m\u001b[0mget_loc\u001b[0m\u001b[1;33m(\u001b[0m\u001b[0mcasted_key\u001b[0m\u001b[1;33m)\u001b[0m\u001b[1;33m\u001b[0m\u001b[1;33m\u001b[0m\u001b[0m\n\u001b[0m\u001b[0;32m   3362\u001b[0m             \u001b[1;32mexcept\u001b[0m \u001b[0mKeyError\u001b[0m \u001b[1;32mas\u001b[0m \u001b[0merr\u001b[0m\u001b[1;33m:\u001b[0m\u001b[1;33m\u001b[0m\u001b[1;33m\u001b[0m\u001b[0m\n",
      "\u001b[1;32m~\\anaconda3\\lib\\site-packages\\pandas\\_libs\\index.pyx\u001b[0m in \u001b[0;36mpandas._libs.index.IndexEngine.get_loc\u001b[1;34m()\u001b[0m\n",
      "\u001b[1;32m~\\anaconda3\\lib\\site-packages\\pandas\\_libs\\index.pyx\u001b[0m in \u001b[0;36mpandas._libs.index.IndexEngine.get_loc\u001b[1;34m()\u001b[0m\n",
      "\u001b[1;32mpandas\\_libs\\hashtable_class_helper.pxi\u001b[0m in \u001b[0;36mpandas._libs.hashtable.PyObjectHashTable.get_item\u001b[1;34m()\u001b[0m\n",
      "\u001b[1;32mpandas\\_libs\\hashtable_class_helper.pxi\u001b[0m in \u001b[0;36mpandas._libs.hashtable.PyObjectHashTable.get_item\u001b[1;34m()\u001b[0m\n",
      "\u001b[1;31mKeyError\u001b[0m: 'bathinsoap'",
      "\nThe above exception was the direct cause of the following exception:\n",
      "\u001b[1;31mKeyError\u001b[0m                                  Traceback (most recent call last)",
      "\u001b[1;32m~\\AppData\\Local\\Temp/ipykernel_21768/3692994382.py\u001b[0m in \u001b[0;36m<module>\u001b[1;34m\u001b[0m\n\u001b[0;32m     18\u001b[0m \u001b[0max1\u001b[0m\u001b[1;33m.\u001b[0m\u001b[0mplot\u001b[0m\u001b[1;33m(\u001b[0m\u001b[0mdf\u001b[0m\u001b[1;33m[\u001b[0m\u001b[1;34m'facewash'\u001b[0m\u001b[1;33m]\u001b[0m\u001b[1;33m,\u001b[0m \u001b[0mlabel\u001b[0m\u001b[1;33m=\u001b[0m\u001b[1;34m'facewash'\u001b[0m\u001b[1;33m,\u001b[0m \u001b[0mcolor\u001b[0m\u001b[1;33m=\u001b[0m\u001b[1;34m'blue'\u001b[0m\u001b[1;33m,\u001b[0m \u001b[0mlinestyle\u001b[0m\u001b[1;33m=\u001b[0m\u001b[1;34m'dashed'\u001b[0m\u001b[1;33m)\u001b[0m\u001b[1;33m\u001b[0m\u001b[1;33m\u001b[0m\u001b[0m\n\u001b[0;32m     19\u001b[0m \u001b[0max1\u001b[0m\u001b[1;33m.\u001b[0m\u001b[0mplot\u001b[0m\u001b[1;33m(\u001b[0m\u001b[0mdf\u001b[0m\u001b[1;33m[\u001b[0m\u001b[1;34m'toothpaste'\u001b[0m\u001b[1;33m]\u001b[0m\u001b[1;33m,\u001b[0m \u001b[0mlabel\u001b[0m\u001b[1;33m=\u001b[0m\u001b[1;34m'toothpaste'\u001b[0m\u001b[1;33m,\u001b[0m \u001b[0mcolor\u001b[0m\u001b[1;33m=\u001b[0m\u001b[1;34m'green'\u001b[0m\u001b[1;33m,\u001b[0m \u001b[0mlinestyle\u001b[0m\u001b[1;33m=\u001b[0m\u001b[1;34m'dashed'\u001b[0m\u001b[1;33m)\u001b[0m\u001b[1;33m\u001b[0m\u001b[1;33m\u001b[0m\u001b[0m\n\u001b[1;32m---> 20\u001b[1;33m \u001b[0max1\u001b[0m\u001b[1;33m.\u001b[0m\u001b[0mplot\u001b[0m\u001b[1;33m(\u001b[0m\u001b[0mdf\u001b[0m\u001b[1;33m[\u001b[0m\u001b[1;34m'bathinsoap'\u001b[0m\u001b[1;33m]\u001b[0m\u001b[1;33m,\u001b[0m \u001b[0mlabel\u001b[0m\u001b[1;33m=\u001b[0m\u001b[1;34m'bathinsoap'\u001b[0m\u001b[1;33m,\u001b[0m \u001b[0mcolor\u001b[0m\u001b[1;33m=\u001b[0m\u001b[1;34m'red'\u001b[0m\u001b[1;33m,\u001b[0m \u001b[0mlinestyle\u001b[0m\u001b[1;33m=\u001b[0m\u001b[1;34m'dashed'\u001b[0m\u001b[1;33m)\u001b[0m\u001b[1;33m\u001b[0m\u001b[1;33m\u001b[0m\u001b[0m\n\u001b[0m\u001b[0;32m     21\u001b[0m \u001b[0max1\u001b[0m\u001b[1;33m.\u001b[0m\u001b[0mplot\u001b[0m\u001b[1;33m(\u001b[0m\u001b[0mdf\u001b[0m\u001b[1;33m[\u001b[0m\u001b[1;34m'shampoo'\u001b[0m\u001b[1;33m]\u001b[0m\u001b[1;33m,\u001b[0m \u001b[0mlabel\u001b[0m\u001b[1;33m=\u001b[0m\u001b[1;34m'shampoo'\u001b[0m\u001b[1;33m,\u001b[0m \u001b[0mcolor\u001b[0m\u001b[1;33m=\u001b[0m\u001b[1;34m'yellow'\u001b[0m\u001b[1;33m,\u001b[0m \u001b[0mlinestyle\u001b[0m\u001b[1;33m=\u001b[0m\u001b[1;34m'dashed'\u001b[0m\u001b[1;33m)\u001b[0m\u001b[1;33m\u001b[0m\u001b[1;33m\u001b[0m\u001b[0m\n\u001b[0;32m     22\u001b[0m \u001b[0max1\u001b[0m\u001b[1;33m.\u001b[0m\u001b[0mplot\u001b[0m\u001b[1;33m(\u001b[0m\u001b[0mdf\u001b[0m\u001b[1;33m[\u001b[0m\u001b[1;34m'moisturizer'\u001b[0m\u001b[1;33m]\u001b[0m\u001b[1;33m,\u001b[0m \u001b[0mlabel\u001b[0m\u001b[1;33m=\u001b[0m\u001b[1;34m'moisturizer'\u001b[0m\u001b[1;33m,\u001b[0m \u001b[0mcolor\u001b[0m\u001b[1;33m=\u001b[0m\u001b[1;34m'orange'\u001b[0m\u001b[1;33m,\u001b[0m \u001b[0mlinestyle\u001b[0m\u001b[1;33m=\u001b[0m\u001b[1;34m'dashed'\u001b[0m\u001b[1;33m)\u001b[0m\u001b[1;33m\u001b[0m\u001b[1;33m\u001b[0m\u001b[0m\n",
      "\u001b[1;32m~\\anaconda3\\lib\\site-packages\\pandas\\core\\frame.py\u001b[0m in \u001b[0;36m__getitem__\u001b[1;34m(self, key)\u001b[0m\n\u001b[0;32m   3456\u001b[0m             \u001b[1;32mif\u001b[0m \u001b[0mself\u001b[0m\u001b[1;33m.\u001b[0m\u001b[0mcolumns\u001b[0m\u001b[1;33m.\u001b[0m\u001b[0mnlevels\u001b[0m \u001b[1;33m>\u001b[0m \u001b[1;36m1\u001b[0m\u001b[1;33m:\u001b[0m\u001b[1;33m\u001b[0m\u001b[1;33m\u001b[0m\u001b[0m\n\u001b[0;32m   3457\u001b[0m                 \u001b[1;32mreturn\u001b[0m \u001b[0mself\u001b[0m\u001b[1;33m.\u001b[0m\u001b[0m_getitem_multilevel\u001b[0m\u001b[1;33m(\u001b[0m\u001b[0mkey\u001b[0m\u001b[1;33m)\u001b[0m\u001b[1;33m\u001b[0m\u001b[1;33m\u001b[0m\u001b[0m\n\u001b[1;32m-> 3458\u001b[1;33m             \u001b[0mindexer\u001b[0m \u001b[1;33m=\u001b[0m \u001b[0mself\u001b[0m\u001b[1;33m.\u001b[0m\u001b[0mcolumns\u001b[0m\u001b[1;33m.\u001b[0m\u001b[0mget_loc\u001b[0m\u001b[1;33m(\u001b[0m\u001b[0mkey\u001b[0m\u001b[1;33m)\u001b[0m\u001b[1;33m\u001b[0m\u001b[1;33m\u001b[0m\u001b[0m\n\u001b[0m\u001b[0;32m   3459\u001b[0m             \u001b[1;32mif\u001b[0m \u001b[0mis_integer\u001b[0m\u001b[1;33m(\u001b[0m\u001b[0mindexer\u001b[0m\u001b[1;33m)\u001b[0m\u001b[1;33m:\u001b[0m\u001b[1;33m\u001b[0m\u001b[1;33m\u001b[0m\u001b[0m\n\u001b[0;32m   3460\u001b[0m                 \u001b[0mindexer\u001b[0m \u001b[1;33m=\u001b[0m \u001b[1;33m[\u001b[0m\u001b[0mindexer\u001b[0m\u001b[1;33m]\u001b[0m\u001b[1;33m\u001b[0m\u001b[1;33m\u001b[0m\u001b[0m\n",
      "\u001b[1;32m~\\anaconda3\\lib\\site-packages\\pandas\\core\\indexes\\base.py\u001b[0m in \u001b[0;36mget_loc\u001b[1;34m(self, key, method, tolerance)\u001b[0m\n\u001b[0;32m   3361\u001b[0m                 \u001b[1;32mreturn\u001b[0m \u001b[0mself\u001b[0m\u001b[1;33m.\u001b[0m\u001b[0m_engine\u001b[0m\u001b[1;33m.\u001b[0m\u001b[0mget_loc\u001b[0m\u001b[1;33m(\u001b[0m\u001b[0mcasted_key\u001b[0m\u001b[1;33m)\u001b[0m\u001b[1;33m\u001b[0m\u001b[1;33m\u001b[0m\u001b[0m\n\u001b[0;32m   3362\u001b[0m             \u001b[1;32mexcept\u001b[0m \u001b[0mKeyError\u001b[0m \u001b[1;32mas\u001b[0m \u001b[0merr\u001b[0m\u001b[1;33m:\u001b[0m\u001b[1;33m\u001b[0m\u001b[1;33m\u001b[0m\u001b[0m\n\u001b[1;32m-> 3363\u001b[1;33m                 \u001b[1;32mraise\u001b[0m \u001b[0mKeyError\u001b[0m\u001b[1;33m(\u001b[0m\u001b[0mkey\u001b[0m\u001b[1;33m)\u001b[0m \u001b[1;32mfrom\u001b[0m \u001b[0merr\u001b[0m\u001b[1;33m\u001b[0m\u001b[1;33m\u001b[0m\u001b[0m\n\u001b[0m\u001b[0;32m   3364\u001b[0m \u001b[1;33m\u001b[0m\u001b[0m\n\u001b[0;32m   3365\u001b[0m         \u001b[1;32mif\u001b[0m \u001b[0mis_scalar\u001b[0m\u001b[1;33m(\u001b[0m\u001b[0mkey\u001b[0m\u001b[1;33m)\u001b[0m \u001b[1;32mand\u001b[0m \u001b[0misna\u001b[0m\u001b[1;33m(\u001b[0m\u001b[0mkey\u001b[0m\u001b[1;33m)\u001b[0m \u001b[1;32mand\u001b[0m \u001b[1;32mnot\u001b[0m \u001b[0mself\u001b[0m\u001b[1;33m.\u001b[0m\u001b[0mhasnans\u001b[0m\u001b[1;33m:\u001b[0m\u001b[1;33m\u001b[0m\u001b[1;33m\u001b[0m\u001b[0m\n",
      "\u001b[1;31mKeyError\u001b[0m: 'bathinsoap'"
     ]
    },
    {
     "data": {
      "image/png": "[encoded data removed]",
      "text/plain": [
       "<Figure size 432x288 with 1 Axes>"
      ]
     },
     "metadata": {
      "needs_background": "light"
     },
     "output_type": "display_data"
    }
   ],
   "source": [
    "# Question 1A\n",
    "import matplotlib.pyplot as plt\n",
    "import pandas as pd\n",
    "\n",
    "# Plot lines\n",
    "df = pd.read_csv('product_sales_Data.csv', sep=';')\n",
    "\n",
    "# Plot the graph\n",
    "fig = plt.figure()\n",
    "fig.subplots_adjust(top=0.8)\n",
    "\n",
    "ax1 = fig.add_subplot(111)\n",
    "ax1.set_ylabel('revenue')\n",
    "ax1.set_xlabel('month')\n",
    "ax1.set_title('Product Profit by Month')\n",
    "\n",
    "ax1.plot(df['facecream'], label='facecream', color='purple', linestyle='dashed')\n",
    "ax1.plot(df['facewash'], label='facewash', color='blue', linestyle='dashed')\n",
    "ax1.plot(df['toothpaste'], label='toothpaste', color='green', linestyle='dashed')\n",
    "ax1.plot(df['bathingsoap'], label='bathingsoap', color='red', linestyle='dashed')\n",
    "ax1.plot(df['shampoo'], label='shampoo', color='yellow', linestyle='dashed')\n",
    "ax1.plot(df['moisturizer'], label='moisturizer', color='orange', linestyle='dashed')\n",
    "ax1.legend()\n",
    "\n",
    "#display plot\n",
    "plt.show()\n"
   ]
  },
  {
   "cell_type": "code",
   "execution_count": 23,
   "metadata": {},
   "outputs": [
    {
     "name": "stdout",
     "output_type": "stream",
     "text": [
      "The ceiling of '435/6' is:  73\n",
      "The floor of '2667/8' is:  333\n",
      "The factorial of 25 is:  15511210043330985984000000\n",
      "The sum of the elements of array '[0.2, 0.33, 0.12, 0.57, 341.1, 23.77, 11.919, 9.1, 10.4, 4.4]' is:  401.909\n"
     ]
    }
   ],
   "source": [
    "# Question 1B\n",
    "import math\n",
    "\n",
    "print(\"The ceiling of '435/6' is: \", math.ceil(435/6))\n",
    "print(\"The floor of '2667/8' is: \", math.floor(2667/8))\n",
    "print(\"The factorial of 25 is: \", math.factorial(25))\n",
    "print(\"The sum of the elements of array '[0.2, 0.33, 0.12, 0.57, 341.1, 23.77, 11.919, 9.1, 10.4, 4.4]' is: \", round(math.fsum([0.2, 0.33, 0.12, 0.57, 341.1, 23.77, 11.919, 9.1, 10.4, 4.4]),3)) #math.fsum uses double point precision in 64bit format, so rounding is needed in order to display the 'true' value which equals 401.909 instead of 401.90900000000005 \n"
   ]
  },
  {
   "cell_type": "code",
   "execution_count": 20,
   "metadata": {},
   "outputs": [
    {
     "data": {
      "text/plain": [
       "'Mon Aug 10 14:20:06 2007'"
      ]
     },
     "execution_count": 20,
     "metadata": {},
     "output_type": "execute_result"
    }
   ],
   "source": [
    "# Question 1C\n",
    "import time\n",
    "t = (2007, 8, 10, 14, 20, 6, 7, 258, 0)\n",
    "time.asctime(t)"
   ]
  },
  {
   "cell_type": "markdown",
   "metadata": {},
   "source": [
    "### Question 1D\n",
    "### What is socket library in Python? Why is it used? Give one brief example. \n",
    "The socket library allows your python program to use sockets. Sockets allow for communication between two devices over a network. One example of how it would be used is to create a web server. A server would use the socket library and use a server socket to receive connections on TCP port 80. A client would use a client socket and connect to the webserver with the IP address of the server at port 80. Once the connection is established, the server and client can communicate."
   ]
  },
  {
   "cell_type": "markdown",
   "metadata": {},
   "source": [
    "### Question 1E part 1\n",
    "### What is multithreading? \n",
    "Firstly a thread is the smallest unit of processing typically refered to as a sub-process in computing.  Multithreading is the process in which the execution of two or more of these threads or tasks is processed by the CPU concurrently."
   ]
  },
  {
   "cell_type": "code",
   "execution_count": 34,
   "metadata": {},
   "outputs": [
    {
     "name": "stdout",
     "output_type": "stream",
     "text": [
      "The factorial of '21' is:  51090942171709440000\n",
      "The factorial of the square root of 91 is:  9.539392014169456\n"
     ]
    }
   ],
   "source": [
    "# Question 1E part 2\n",
    "import threading\n",
    "import math\n",
    "\n",
    "def question_1d():\n",
    "    print(\"The factorial of '21' is: \", math.factorial(21))\n",
    "    print(\"The factorial of the square root of 91 is: \", math.sqrt(91)) \n",
    "    #you only wrote in the sqroot not its factorial\n",
    "    # problem: math.factorial can only take in integers and there does not seem to be a similar function in cmath either.\n",
    "    #could perhaps write in a quick loop to manually calc factorial? like:\n",
    "    #for i in range(1,x+1):\n",
    "        #factorial=factorial*i\n",
    "\n",
    "x = threading.Thread(target=question_1d)\n",
    "x.start()"
   ]
  },
  {
   "cell_type": "markdown",
   "metadata": {
    "pycharm": {
     "name": "#%% md\n"
    }
   },
   "source": [
    "### Question 2\n",
    "Please answer the following:  \n",
    "a) Come up with three differences between symmetric and asymmetric encryption. Which one do you think is better? Explain why you think one is better than the other in a few sentences.\n",
    "\n",
    "Differences:\n",
    "- Symmetric Encryption uses one key, asymmetric encryption uses two keys\n",
    "- Symmetric Encryption is much faster than asymmetric encryption\n",
    "- Asymmetric Encyprion supports digital signatures, via signing with the private key and verifying with the public key.\n",
    "\n",
    "Technically asymmetric encryption and symmetric encryption have thier own purposes. However, symmetric encryption is used much more frequently as it is much faster. If authentication is needed, then you can use HMAC with the symmetric key.\n",
    "\n",
    "b) Is AES-256 symmetric or asymmetric?  \n",
    "AES-256 is a symmetric encryption system"
   ]
  },
  {
   "cell_type": "markdown",
   "metadata": {},
   "source": [
    "### Question 3\n",
    "Pydantic is a helpful library for data parsing and validation. It coerces input types to the declared type (using type hints), accumulates all the errors using ValidationError & it’s also well documented, making it easily discoverable.\n",
    "\n",
    "a) Go over the documentation and try understanding how to use this library's methods.\n",
    "\n",
    "b) Go over pydantic.py, which has classes written in pydantic, and a write up of what each class does and how pydantic is used."
   ]
  },
  {
   "cell_type": "code",
   "execution_count": 47,
   "metadata": {},
   "outputs": [
    {
     "ename": "AttributeError",
     "evalue": "partially initialized module 'pydantic' has no attribute 'BaseModel' (most likely due to a circular import)",
     "output_type": "error",
     "traceback": [
      "\u001b[1;31m---------------------------------------------------------------------------\u001b[0m",
      "\u001b[1;31mAttributeError\u001b[0m                            Traceback (most recent call last)",
      "\u001b[1;32m~\\AppData\\Local\\Temp/ipykernel_7300/1994024547.py\u001b[0m in \u001b[0;36m<module>\u001b[1;34m\u001b[0m\n\u001b[0;32m      1\u001b[0m \u001b[1;32mimport\u001b[0m \u001b[0mjson\u001b[0m\u001b[1;33m\u001b[0m\u001b[1;33m\u001b[0m\u001b[0m\n\u001b[0;32m      2\u001b[0m \u001b[1;32mfrom\u001b[0m \u001b[0mtyping\u001b[0m \u001b[1;32mimport\u001b[0m \u001b[0mList\u001b[0m\u001b[1;33m,\u001b[0m \u001b[0mOptional\u001b[0m\u001b[1;33m\u001b[0m\u001b[1;33m\u001b[0m\u001b[0m\n\u001b[1;32m----> 3\u001b[1;33m \u001b[1;32mimport\u001b[0m \u001b[0mpydantic\u001b[0m\u001b[1;33m\u001b[0m\u001b[1;33m\u001b[0m\u001b[0m\n\u001b[0m\u001b[0;32m      4\u001b[0m \u001b[1;33m\u001b[0m\u001b[0m\n\u001b[0;32m      5\u001b[0m \u001b[1;31m# Inherits from the Exception class. This is used to generate the ISBNMissingError Exception.\u001b[0m\u001b[1;33m\u001b[0m\u001b[1;33m\u001b[0m\u001b[0m\n",
      "\u001b[1;32m~\\Downloads\\ISSEM-Summer-2022\\labs\\lab3\\pydantic.py\u001b[0m in \u001b[0;36m<module>\u001b[1;34m\u001b[0m\n\u001b[0;32m     44\u001b[0m \u001b[1;33m\u001b[0m\u001b[0m\n\u001b[0;32m     45\u001b[0m \u001b[1;33m\u001b[0m\u001b[0m\n\u001b[1;32m---> 46\u001b[1;33m \u001b[1;32mclass\u001b[0m \u001b[0mAuthor\u001b[0m\u001b[1;33m(\u001b[0m\u001b[0mpydantic\u001b[0m\u001b[1;33m.\u001b[0m\u001b[0mBaseModel\u001b[0m\u001b[1;33m)\u001b[0m\u001b[1;33m:\u001b[0m\u001b[1;33m\u001b[0m\u001b[1;33m\u001b[0m\u001b[0m\n\u001b[0m\u001b[0;32m     47\u001b[0m     \u001b[0mname\u001b[0m\u001b[1;33m:\u001b[0m \u001b[0mstr\u001b[0m\u001b[1;33m\u001b[0m\u001b[1;33m\u001b[0m\u001b[0m\n\u001b[0;32m     48\u001b[0m     \u001b[0mverified\u001b[0m\u001b[1;33m:\u001b[0m \u001b[0mbool\u001b[0m\u001b[1;33m\u001b[0m\u001b[1;33m\u001b[0m\u001b[0m\n",
      "\u001b[1;31mAttributeError\u001b[0m: partially initialized module 'pydantic' has no attribute 'BaseModel' (most likely due to a circular import)"
     ]
    }
   ],
   "source": [
    "import json\n",
    "from typing import List, Optional\n",
    "import pydantic\n",
    "\n",
    "# Inherits from the Exception class. This is used to generate the ISBNMissingError Exception.\n",
    "# The inheritance also is to help format the Exception message\n",
    "# This exception gets thrown if the Book class does not have an ISBN10 or ISBN13 key/value pair in the input data\n",
    "class ISBNMissingError(Exception):\n",
    "\n",
    "    def __init__(self, title: str, message: str) -> None:\n",
    "        self.title = title\n",
    "        self.message = message\n",
    "        super().__init__(message)\n",
    "\n",
    "\n",
    "# Inherits from the Exception class. This is used to generate the ISBN10FormatError Exception\n",
    "# The inheritance also is to help format the Exception message\n",
    "# This exception gets created if there checks for how ISBN10 format fails, see in the Book class\n",
    "class ISBN10FormatError(Exception):\n",
    "\n",
    "    def __init__(self, value: str, message: str) -> None:\n",
    "        self.value = value\n",
    "        self.message = message\n",
    "        super().__init__(message)\n",
    "\n",
    "        \n",
    "# This is to ensure the Author class would have a tuple of the name of the author in string, \n",
    "# and boolean type if the author is verified or not\n",
    "class Author(pydantic.BaseModel):\n",
    "    name: str\n",
    "    verified: bool\n",
    "\n",
    "class Book(pydantic.BaseModel):\n",
    "\n",
    "    # All books should have the following fields and data types.\n",
    "    title: str # Titles must be type string\n",
    "    author: str # author must be type string\n",
    "    publisher: str # publisher must be type string\n",
    "    price: float # price is type floar\n",
    "        \n",
    "    # The following key/value pairs are NOT REQUIRED FOR BOOK CLASS\n",
    "    isbn_10: Optional[str] # isbn_10 is a string\n",
    "    isbn_13: Optional[str] # isbn_13 is a string\n",
    "    subtitle: Optional[str] # subtitle is a string\n",
    "    author2: Optional[Author] # author2 is a type Author, see Author class above.\n",
    "\n",
    "    # Root validator means this check is applied to all Books\n",
    "    # pre=True means Complete this check before field valiation occurs\n",
    "    @pydantic.root_validator(pre=True)\n",
    "    @classmethod\n",
    "    \n",
    "    # Check if the Book is missing isbn_10 and isbn_13 value\n",
    "    # if it is, throw an exception\n",
    "    def check_isbn_10_or_13(cls, values):\n",
    "        if \"isbn_10\" not in values and \"isbn_13\" not in values:\n",
    "            raise ISBNMissingError(\n",
    "                title=values[\"title\"],\n",
    "                message=\"Document should have either an ISBN10 or ISBN13\",\n",
    "            )\n",
    "        return values\n",
    "    \n",
    "    # This is a field validator for the isbn_10 field\n",
    "    # This checks if the isbn_10 value matches certain behavior\n",
    "    @pydantic.validator(\"isbn_10\")\n",
    "    @classmethod\n",
    "    def isbn_10_valid(cls, value) -> None:\n",
    "        \n",
    "        # obtain a list of characters in isbn_10 that is either a \"0\", \"1\", ..., \"9\", \"x\", \"X\".\n",
    "        chars = [c for c in value if c in \"0123456789Xx\"]\n",
    "        # If there not 10 characters in isbn_10 throw an exception\n",
    "        if len(chars) != 10:\n",
    "            raise ISBN10FormatError(value=value, message=\"ISBN10 should be 10 digits.\")\n",
    "\n",
    "        # convert a character into an int value.\n",
    "        # 'x' and 'X' is converted to 10\n",
    "        # '0' becomes 0, '1' becomes 1, etc.\n",
    "        def char_to_int(char: str) -> int:\n",
    "            if char in \"Xx\":\n",
    "                return 10\n",
    "            return int(char)\n",
    "        \n",
    "        # Check if the isbn_10 string value is divisible by 11 or not\n",
    "        # if it isn't divisble, throw an exception\n",
    "        if sum((10 - i) * char_to_int(x) for i, x in enumerate(chars)) % 11 != 0:\n",
    "            raise ISBN10FormatError(\n",
    "                value=value, message=\"ISBN10 digit sum should be divisible by 11.\"\n",
    "            )\n",
    "        return value\n",
    "\n",
    "    class Config:\n",
    "        # models are faux-immutable, __setattr__ is DISABLED!\n",
    "        allow_mutation = False\n",
    "        # make all characters lowercase for str & byte types\n",
    "        anystr_lower = True\n"
   ]
  },
  {
   "cell_type": "markdown",
   "metadata": {},
   "source": [
    "### Question 4\n",
    "Cerberus provides powerful yet simple and lightweight data validation functionality out of the box and is designed to be easily extensible, allowing for custom validation. It’s very similar to Pydantic and you go over the documentations here. It’s like Pydantic with slight variations.\n",
    "\n",
    "a) Go over this article and modify the code in the given article to add extra validations to the given schema. Mind you that you can add extra key value pairs to the dictionary itself and then add validations for those.\n",
    "\n",
    "b) Write your modifications."
   ]
  },
  {
   "cell_type": "code",
   "execution_count": 24,
   "metadata": {},
   "outputs": [],
   "source": [
    "from dataclasses import dataclass\n",
    "import datetime\n",
    "\n",
    "\n",
    "@dataclass\n",
    "class Customer:\n",
    "    id: int\n",
    "    name: str\n",
    "    accounts: list\n",
    "    contact_details: dict\n",
    "    role: str\n",
    "    last_activity_date: datetime.date = datetime.date.today()\n",
    "    access_right: str = \"\"\n",
    "    client_card_type: str = \"\"\n",
    "    "
   ]
  },
  {
   "cell_type": "code",
   "execution_count": 71,
   "metadata": {},
   "outputs": [],
   "source": [
    "schema = {\n",
    "  \"id\": {\n",
    "    \"type\": \"integer\",\n",
    "    \"min\": 0,\n",
    "    \"max\": 100,\n",
    "    \"required\": True\n",
    "  },\n",
    "  \"name\": {\n",
    "    \"type\": \"string\",\n",
    "    \"minlength\": 2,\n",
    "    \"maxlength\": 255,\n",
    "    \"required\": True\n",
    "  },\n",
    "  \"accounts\": {\n",
    "    \"type\": \"list\",\n",
    "    \"schema\": {\n",
    "      \"type\": \"integer\",\n",
    "      \"min\": 0,\n",
    "      \"max\": 100\n",
    "    }\n",
    "  },\n",
    "  \"contact_details\": {\n",
    "    \"type\": \"dict\",\n",
    "    \"require_all\": True,  # let every field be required\n",
    "    \"schema\": {\n",
    "      \"phone\": {\n",
    "        \"type\": \"string\",\n",
    "        \"minlength\": 11,\n",
    "        \"maxlength\": 11,\n",
    "        \"regex\": \"^0[0-9]{10}$\"\n",
    "      },\n",
    "      \"email\": {\n",
    "        \"type\": \"string\",\n",
    "        \"minlength\": 2,\n",
    "        \"maxlength\": 255,\n",
    "        \"required\": True,\n",
    "        \"regex\": \"^[a-zA-Z0-9_.+-]+@[a-zA-Z0-9-]+\\\\.[a-zA-Z0-9-.]+$\"\n",
    "      }\n",
    "    }\n",
    "  },\n",
    "  \"role\": {  # add field role only with 2 allowed values\n",
    "    \"type\": \"string\", \n",
    "    \"allowed\": ['client', 'supplier']\n",
    "  },\n",
    "  \"access_right\": {  # add field access_right which can be set only if role == supplier\n",
    "      \"type\": \"string\",\n",
    "      \"excludes\": 'client_card_type',  # no client_card_type field if this field if present\n",
    "      \"empty\": False,  # and it can`t be empty\n",
    "      'dependencies': {\n",
    "        \"role\": ['supplier'],\n",
    "      },\n",
    "      \"anyof\": [{\"minlength\": 2, \"maxlength\": 5}, {\"minlength\": 10, \"maxlength\": 15}]  # 2-5 or 10-15 characters\n",
    "  },\n",
    "  \"client_card_type\": {  # add field access_right which can be set only if role == client\n",
    "    \"type\": \"string\",\n",
    "    \"excludes\": 'access_right',  # no access_right field if this field if present\n",
    "    \"empty\": False,  # and it can`t be empty\n",
    "    \"forbidden\": ['root', 'admin'],  # no such values allowed for the field\n",
    "    'dependencies': {\n",
    "      \"role\": ['client'],\n",
    "    }\n",
    "  },\n",
    "  \"last_activity_date\": {  # and create date field\n",
    "    \"type\": \"date\",\n",
    "  }\n",
    "}\n"
   ]
  },
  {
   "cell_type": "code",
   "execution_count": 72,
   "metadata": {},
   "outputs": [],
   "source": [
    "import json\n",
    "import os\n",
    "\n",
    "from cerberus import Validator\n",
    "\n",
    "\n",
    "class Api:\n",
    "    def create_customer(self, payload: dict) -> Customer:\n",
    "        \"\"\"\n",
    "        validates payload and - only if valid - instantiates a Customer\n",
    "        :param payload: payload containing Customer details\n",
    "        :return: newly instantiated Customer if payload is valid\n",
    "        \"\"\"\n",
    "        self.validate_payload(payload)\n",
    "\n",
    "        return Customer(**payload)\n",
    "\n",
    "    @staticmethod\n",
    "    def validate_payload(payload: dict):\n",
    "        \"\"\"\n",
    "        validate payload against a Cerberus schema\n",
    "        :param payload: payload to be validated\n",
    "        :return: nothing\n",
    "        \"\"\"\n",
    "        validator = Validator()\n",
    "        validator.validate(payload, schema)\n",
    "\n",
    "        if validator.errors:\n",
    "            print(f\"Validation failed: {validator.errors}\")\n",
    "        else:\n",
    "            print(\"OK\")\n"
   ]
  },
  {
   "cell_type": "code",
   "execution_count": 81,
   "metadata": {},
   "outputs": [
    {
     "name": "stdout",
     "output_type": "stream",
     "text": [
      "Running: {'id': 20, 'name': 'Hello', 'accounts': [30, 17, '49'], 'contact_details': {'phone': '01234567891'}, 'role': 'student', 'access_right': 'admin', 'client_card_type': 'root'}\n",
      "Validation failed: {'access_right': [\"depends on these values: {'role': ['supplier']}\", \"'client_card_type' must not be present with 'access_right'\"], 'accounts': [{2: ['must be of integer type']}], 'client_card_type': [\"depends on these values: {'role': ['client']}\", \"'access_right' must not be present with 'client_card_type'\", 'unallowed value root'], 'contact_details': [{'email': ['required field']}], 'role': ['unallowed value student']}\n",
      "\n",
      "Running: {'id': 20, 'name': 'Hello', 'accounts': [30, 17, 49], 'contact_details': {'phone': '01234567891', 'email': 'example@example.com'}, 'role': 'client', 'client_card_type': 'premium'}\n",
      "OK\n",
      "\n",
      "Running: {'id': 20, 'name': 'Hello', 'accounts': [30, 17, 49], 'contact_details': {'phone': '01234567891', 'email': 'example@example.com'}, 'role': 'client', 'access_right': 'admin'}\n",
      "Validation failed: {'access_right': [\"depends on these values: {'role': ['supplier']}\"]}\n",
      "\n",
      "Running: {'id': 20, 'name': 'Hello', 'accounts': [30, 17, 49], 'contact_details': {'phone': '01234567891', 'email': 'example@example.com'}, 'role': 'supplier', 'access_right': 'admin'}\n",
      "OK\n",
      "\n",
      "Running: {'id': 20, 'name': 'Hello', 'accounts': [30, 17, 49], 'contact_details': {'phone': '01234567891', 'email': 'example@example.com'}, 'role': 'supplier', 'access_right': 'myadmin'}\n",
      "Validation failed: {'access_right': ['no definitions validate', {'anyof definition 0': ['max length is 5'], 'anyof definition 1': ['min length is 10']}]}\n",
      "\n",
      "Running: {'id': 20, 'name': 'Hello', 'accounts': [30, 17, 49], 'contact_details': {'phone': '01234567891', 'email': 'example@example.com'}, 'role': 'supplier', 'access_right': 'systemadmin', 'last_activity_date': datetime.date(2021, 8, 24)}\n",
      "OK\n",
      "\n",
      "\n"
     ]
    }
   ],
   "source": [
    "# and tests\n",
    "\n",
    "test_entries = [\n",
    "    {\n",
    "        \"id\": 20,\n",
    "        \"name\": \"Hello\",\n",
    "        \"accounts\": [30, 17, \"49\"],\n",
    "        \"contact_details\": {\n",
    "          \"phone\": \"01234567891\",\n",
    "        },\n",
    "        \"role\": \"student\",\n",
    "        \"access_right\": \"admin\",\n",
    "        \"client_card_type\": \"root\",\n",
    "    },\n",
    "    \n",
    "    {\n",
    "        \"id\": 20,\n",
    "        \"name\": \"Hello\",\n",
    "        \"accounts\": [30, 17, 49],\n",
    "        \"contact_details\": {\n",
    "          \"phone\": \"01234567891\",\n",
    "          \"email\": \"example@example.com\"\n",
    "        },\n",
    "        \"role\": \"client\",\n",
    "        \"client_card_type\": \"premium\",\n",
    "    },\n",
    "    \n",
    "    {\n",
    "        \"id\": 20,\n",
    "        \"name\": \"Hello\",\n",
    "        \"accounts\": [30, 17, 49],\n",
    "        \"contact_details\": {\n",
    "          \"phone\": \"01234567891\",\n",
    "          \"email\": \"example@example.com\"\n",
    "        },\n",
    "        \"role\": \"client\",\n",
    "        \"access_right\": \"admin\",\n",
    "    },\n",
    "    \n",
    "    {\n",
    "        \"id\": 20,\n",
    "        \"name\": \"Hello\",\n",
    "        \"accounts\": [30, 17, 49],\n",
    "        \"contact_details\": {\n",
    "          \"phone\": \"01234567891\",\n",
    "          \"email\": \"example@example.com\"\n",
    "        },\n",
    "        \"role\": \"supplier\",\n",
    "        \"access_right\": \"admin\",\n",
    "    },\n",
    "    \n",
    "    {\n",
    "        \"id\": 20,\n",
    "        \"name\": \"Hello\",\n",
    "        \"accounts\": [30, 17, 49],\n",
    "        \"contact_details\": {\n",
    "          \"phone\": \"01234567891\",\n",
    "          \"email\": \"example@example.com\"\n",
    "        },\n",
    "        \"role\": \"supplier\",\n",
    "        \"access_right\": \"myadmin\",\n",
    "    },\n",
    "    \n",
    "    {\n",
    "        \"id\": 20,\n",
    "        \"name\": \"Hello\",\n",
    "        \"accounts\": [30, 17, 49],\n",
    "        \"contact_details\": {\n",
    "          \"phone\": \"01234567891\",\n",
    "          \"email\": \"example@example.com\"\n",
    "        },\n",
    "        \"role\": \"supplier\",\n",
    "        \"access_right\": \"systemadmin\",\n",
    "        \"last_activity_date\": datetime.datetime.strptime('24.08.2021', \"%d.%m.%Y\").date()\n",
    "    },\n",
    "]\n",
    "\n",
    "for entry in test_entries:\n",
    "    print(f\"Running: {entry}\")\n",
    "    Api().create_customer(entry)\n",
    "    print()\n",
    "\n",
    "print()"
   ]
  },
  {
   "cell_type": "code",
   "execution_count": null,
   "metadata": {},
   "outputs": [],
   "source": []
  },
  {
   "cell_type": "code",
   "execution_count": null,
   "metadata": {},
   "outputs": [],
   "source": []
  }
 ],
 "metadata": {
  "kernelspec": {
   "display_name": "Python 3 (ipykernel)",
   "language": "python",
   "name": "python3"
  },
  "language_info": {
   "codemirror_mode": {
    "name": "ipython",
    "version": 3
   },
   "file_extension": ".py",
   "mimetype": "text/x-python",
   "name": "python",
   "nbconvert_exporter": "python",
   "pygments_lexer": "ipython3",
   "version": "3.9.7"
  }
 },
 "nbformat": 4,
 "nbformat_minor": 4
}
