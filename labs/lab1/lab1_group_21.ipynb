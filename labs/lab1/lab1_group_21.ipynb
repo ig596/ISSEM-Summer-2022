{
 "cells": [
  {
   "cell_type": "markdown",
   "metadata": {
    "collapsed": true,
    "pycharm": {
     "name": "#%% md\n"
    }
   },
   "source": [
    "# Lab1\n",
    "## Group Members: (Andrew Quijano, afq2003), (Isaiah Genis | ig596), (Jamie Leach | jhl925), (Yevhen Pankevych | yp2525)"
   ]
  },
  {
   "cell_type": "code",
   "execution_count": 58,
   "outputs": [
    {
     "name": "stdout",
     "output_type": "stream",
     "text": [
      "Group:21 Lab1 Course:ISSEM\n"
     ]
    }
   ],
   "source": [
    "Group = \"21\"\n",
    "Course = \"ISSEM\"\n",
    "Lab = \"Lab1\"\n",
    "print(\"Group:\"+Group, Lab, \"Course:\"+Course)"
   ],
   "metadata": {
    "collapsed": false,
    "pycharm": {
     "name": "#%%\n"
    }
   }
  },
  {
   "cell_type": "code",
   "execution_count": 59,
   "outputs": [
    {
     "name": "stdout",
     "output_type": "stream",
     "text": [
      "<class 'int'>\n",
      "<class 'str'>\n",
      "<class 'list'>\n"
     ]
    }
   ],
   "source": [
    "X=7 # type int\n",
    "print(type(X))\n",
    "Y='ISSEM' #type str\n",
    "print(type(Y))\n",
    "Z=[\"red\",\"blue\",\"green\"] #type list. This is a list of strs.\n",
    "print(type(Z))"
   ],
   "metadata": {
    "collapsed": false,
    "pycharm": {
     "name": "#%%\n"
    }
   }
  },
  {
   "cell_type": "code",
   "source": [
    "\"\"\"This Code flips the first two words and last two words in a string separated by spaces.\"\"\"\n",
    "str=\"The quick brown fox jumps over the lazy dog\"\n",
    "arr = str.split(\" \") #splitting string on spaces into array of strings\n",
    "temp=[] # create temp holding object\n",
    "temp.append(arr[0]) # adding first string(The) to temp list\n",
    "temp.append(arr[1]) # adding 2nd string(quick) to temp list\n",
    "arr[0]= arr[len(arr)-2] # set first item in list to the 2nd to last string(lazy).\n",
    "arr[1]= arr[len(arr)-1] # set the 2nd item in the list to the last string (dog).\n",
    "arr[len(arr)-2] = temp[0] # set 2nd to last item in list to the original first string(The)\n",
    "arr[len(arr)-1] = temp[1] # set last item in list to the original second string(quick)\n",
    "str=' '.join(arr) # recombine strings from list in to a single string variable"
   ],
   "metadata": {
    "collapsed": false,
    "pycharm": {
     "name": "#%%\n"
    }
   },
   "execution_count": 60,
   "outputs": []
  },
  {
   "cell_type": "code",
   "execution_count": 61,
   "outputs": [],
   "source": [
    "\n",
    "# This function doesn't seem to run properly given the override of str in the above section. del str used below to correct that.\n",
    "del str\n",
    "def dummy(var):\n",
    "    x=str(var) # cast input to a string if so number 121 is treated as string \"121\" if it is already a string \"the\" no change.\n",
    "    y=len(x)-1 # calculate the number of characters in the input -1  \"the\" and 121 would set y =2\n",
    "    z='' # empty character variable\n",
    "    while y >= 0: # Loop through while the string has remaining characters. First Round y=2. 2nd Round y=1. 3rd Round y=0. 4 Round y=-1 breaking while condition and exiting loop.\n",
    "        z = z + x[y] # concatante z with the last character of string x. First round for \"the\" would be z= '' + 'e' = 'e'. If input 121 first round z=''+'1'='1'. 2nd round for \"the\" z='e'+'h'='eh'. 2nd round for 121 z='1'+'2'='12'. For 3rd round \"the\" z='eh'+'t'='eht'. 3rd round for 121 z='12'+'1'='121'\n",
    "        y -=1 # decrement y. First round y=2-1=1. 2nd round y=1-1=0. 3rd round y=0-1=-1\n",
    "    return int(z) if isinstance(var, int) else float(z) # here just check if it was float of int\" # return reversed input as integer for input 121 returns 121 for input \"the\" returns\n"
   ],
   "metadata": {
    "collapsed": false,
    "pycharm": {
     "name": "#%%\n"
    }
   }
  },
  {
   "cell_type": "code",
   "execution_count": 62,
   "outputs": [
    {
     "name": "stdout",
     "output_type": "stream",
     "text": [
      "121 is a palindrome\n",
      "123 is NOT a palindrome\n",
      "414 is a palindrome\n",
      "866.988 is NOT a palindrome\n",
      "866 is NOT a palindrome\n",
      "988 is NOT a palindrome\n",
      "101 is a palindrome\n"
     ]
    }
   ],
   "source": [
    "def is_palidrome(var):\n",
    "    tmp=dummy(var)\n",
    "    if type(var) is float:\n",
    "        if float(str(var))==tmp:\n",
    "            return True\n",
    "    elif int(str(var))==tmp:\n",
    "        return True\n",
    "    else:\n",
    "        return False\n",
    "items=[121, 123, 414, 866.988,866,988, 101] # the float in the provided input will break the int casting in dummy. We are left with two fixes for this 1 is to assume the decimal was supposed to be a comma the other is to assume it is in fact correctly a decimal number and modify the provided code for dummy(var) to support decimals. We decided on both adjusting the code to supporting floats and adding the elements as separate ints.\n",
    "for item in items:\n",
    "    if is_palidrome(item):\n",
    "        print(f\"{item} is a palindrome\")\n",
    "    else:\n",
    "        print(f\"{item} is NOT a palindrome\")"
   ],
   "metadata": {
    "collapsed": false,
    "pycharm": {
     "name": "#%%\n"
    }
   }
  },
  {
   "cell_type": "code",
   "execution_count": 63,
   "outputs": [],
   "source": [
    "def Calculate_Discount(price):\n",
    "    if price >= 500:\n",
    "        final_price = price * (70/100)\n",
    "    elif price >= 350 and price < 500:\n",
    "        final_price = price * (80/100)\n",
    "    elif price >= 150 and price < 350:\n",
    "        final_price = price * (90/100)\n",
    "    elif price >= 10 and price < 150:\n",
    "        final_price = price * (95/100)\n",
    "    elif price > 0 and price < 10:\n",
    "        final_price = price * (50/100)\n",
    "    else:\n",
    "        final_price = \"Price cannot be negative. Please enter a positive value.\"\n",
    "    return final_price"
   ],
   "metadata": {
    "collapsed": false,
    "pycharm": {
     "name": "#%%\n"
    }
   }
  },
  {
   "cell_type": "code",
   "execution_count": 64,
   "outputs": [
    {
     "name": "stdout",
     "output_type": "stream",
     "text": [
      "The discount for an item priced at $440 is: $352.0\n",
      "The discount for an item priced at $265 is: $238.5\n",
      "The discount for an item priced at $144 is: $136.79999999999998\n",
      "The discount for an item priced at $-10 is: $Price cannot be negative. Please enter a positive value.\n",
      "The discount for an item priced at $8 is: $4.0\n"
     ]
    }
   ],
   "source": [
    "items=[440,265,144,-10,8]\n",
    "for item in items:\n",
    "    print(\"The discount for an item priced at $\"+str(item), \"is: $\"+str(Calculate_Discount(item)))\n"
   ],
   "metadata": {
    "collapsed": false,
    "pycharm": {
     "name": "#%%\n"
    }
   }
  }
 ],
 "metadata": {
  "kernelspec": {
   "display_name": "Python 3",
   "language": "python",
   "name": "python3"
  },
  "language_info": {
   "codemirror_mode": {
    "name": "ipython",
    "version": 2
   },
   "file_extension": ".py",
   "mimetype": "text/x-python",
   "name": "python",
   "nbconvert_exporter": "python",
   "pygments_lexer": "ipython2",
   "version": "2.7.6"
  }
 },
 "nbformat": 4,
 "nbformat_minor": 0
}