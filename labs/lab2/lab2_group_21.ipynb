{
 "cells": [
  {
   "cell_type": "markdown",
   "metadata": {
    "collapsed": true,
    "pycharm": {
     "name": "#%% md\n"
    }
   },
   "source": [
    "# Lab 2\n",
    "Group Members: (Andrew Quijano, afq2003), (Isaiah Genis | ig596), (Jamie Leach | jhl925), (Yevhen Pankevych | yp2525)"
   ]
  },
  {
   "cell_type": "markdown",
   "source": [
    "## Problem 1\n",
    " - Cryptography:\n",
    " - Encryption:\n",
    " - Plain Text:\n",
    " - Cipher Text:\n",
    " - Decryption:\n",
    " - Double Strength Encryption:\n",
    " - Hybrid Encryption:"
   ],
   "metadata": {
    "collapsed": false,
    "pycharm": {
     "name": "#%% md\n"
    }
   }
  },
  {
   "cell_type": "code",
   "execution_count": 15,
   "outputs": [],
   "source": [
    "import string\n",
    "def encrypt(word,key):\n",
    "    if not word.isalpha():\n",
    "        raise ValueError(\"Input is not alphabetic as requried.\")\n",
    "    ciphertext=\"\"\n",
    "    for character in word:\n",
    "        if character.isupper():\n",
    "            alphabet=list(string.ascii_uppercase)\n",
    "        else:\n",
    "            alphabet=list(string.ascii_lowercase)\n",
    "        ciphertext+=alphabet[(alphabet.index(character)+key)%26]\n",
    "    return ciphertext\n",
    "\n",
    "def decrypt(word, key):\n",
    "    if not word.isalpha():\n",
    "        raise ValueError(\"Input is not alphabetic as requried.\")\n",
    "    plaintext=\"\"\n",
    "    for character in word:\n",
    "        if character.isupper():\n",
    "            alphabet=list(string.ascii_uppercase)\n",
    "        else:\n",
    "            alphabet=list(string.ascii_lowercase)\n",
    "        plaintext+=alphabet[(alphabet.index(character)-key)%26]\n",
    "    return plaintext"
   ],
   "metadata": {
    "collapsed": false,
    "pycharm": {
     "name": "#%%\n"
    }
   }
  },
  {
   "cell_type": "markdown",
   "source": [
    "### Question 3\n",
    "*What is hash function in cryptography?*\n",
    "A hash function is an operation that takes a plaintext object of arbitrary length and produces a unique and repeatable fixed-length ciphertext. These are often used identify data as well as to validate integrity of data as the hash would change if the data/file was modified."
   ],
   "metadata": {
    "collapsed": false,
    "pycharm": {
     "name": "#%% md\n"
    }
   }
  },
  {
   "cell_type": "code",
   "execution_count": 16,
   "outputs": [
    {
     "name": "stdout",
     "output_type": "stream",
     "text": [
      "ea2b9ab09f3ab6aefb8dbd8d93a511a22f7f8616872d78d1b8f81550b932e063\n"
     ]
    }
   ],
   "source": [
    "import hashlib\n",
    "def hash_message(message):\n",
    "\n",
    "    return hashlib.sha256(bytes(message,'utf-8')).hexdigest()\n",
    "message_from_lab=\"Information Systems Security Engineering and Management\"\n",
    "tmp=hash_message(message_from_lab)\n",
    "print(tmp)"
   ],
   "metadata": {
    "collapsed": false,
    "pycharm": {
     "name": "#%%\n"
    }
   }
  },
  {
   "cell_type": "code",
   "execution_count": 17,
   "outputs": [
    {
     "name": "stdout",
     "output_type": "stream",
     "text": [
      "True\n"
     ]
    }
   ],
   "source": [
    "def hash_verify(message,old_hash):\n",
    "    new_hash=hashlib.sha256(bytes(message,'utf-8')).hexdigest()\n",
    "    if new_hash==old_hash:\n",
    "        return True\n",
    "    else:\n",
    "        return False\n",
    "print(f\"Hashes Match: {hash_verify(message_from_lab,tmp)}\")\n"
   ],
   "metadata": {
    "collapsed": false,
    "pycharm": {
     "name": "#%%\n"
    }
   }
  }
 ],
 "metadata": {
  "kernelspec": {
   "display_name": "Python 3",
   "language": "python",
   "name": "python3"
  },
  "language_info": {
   "codemirror_mode": {
    "name": "ipython",
    "version": 2
   },
   "file_extension": ".py",
   "mimetype": "text/x-python",
   "name": "python",
   "nbconvert_exporter": "python",
   "pygments_lexer": "ipython2",
   "version": "2.7.6"
  }
 },
 "nbformat": 4,
 "nbformat_minor": 0
}