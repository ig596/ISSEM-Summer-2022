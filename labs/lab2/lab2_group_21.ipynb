{
 "cells": [
  {
   "cell_type": "markdown",
   "metadata": {
    "collapsed": true,
    "pycharm": {
     "name": "#%% md\n"
    }
   },
   "source": [
    "# Lab 2\n",
    "Group Members: (Andrew Quijano, afq2003), (Isaiah Genis | ig596), (Jamie Leach | jhl925), (Yevhen Pankevych | yp2525)"
   ]
  },
  {
   "cell_type": "markdown",
   "source": [
    "## Problem 1\n",
    " - Cryptography:\n",
    " - Encryption:\n",
    " - Plain Text:\n",
    " - Cipher Text:\n",
    " - Decryption:\n",
    " - Double Strength Encryption:\n",
    " - Hybrid Encryption:"
   ],
   "metadata": {
    "collapsed": false,
    "pycharm": {
     "name": "#%% md\n"
    }
   }
  },
  {
   "cell_type": "code",
   "execution_count": null,
   "outputs": [],
   "source": [
    "import string\n",
    "def encrypt(word,key):\n",
    "    ciphertext=\"\"\n",
    "    for character in word:\n",
    "        if character.isupper():\n",
    "            alphabet=list(string.ascii_uppercase)\n",
    "        else:\n",
    "            alphabet=list(string.ascii_lowercase)\n",
    "        ciphertext+=alphabet[(alphabet.index(character)+key)%26]\n",
    "    return ciphertext\n",
    "\n",
    "def decrypt(word, key):\n",
    "    plaintext=\"\"\n",
    "    for character in word:\n",
    "        if character.isupper():\n",
    "            alphabet=list(string.ascii_uppercase)\n",
    "        else:\n",
    "            alphabet=list(string.ascii_lowercase)\n",
    "        plaintext+=alphabet[(alphabet.index(character)-key)%26]\n",
    "    return plaintext\n"
   ],
   "metadata": {
    "collapsed": false,
    "pycharm": {
     "name": "#%%\n"
    }
   }
  }
 ],
 "metadata": {
  "kernelspec": {
   "display_name": "Python 3",
   "language": "python",
   "name": "python3"
  },
  "language_info": {
   "codemirror_mode": {
    "name": "ipython",
    "version": 2
   },
   "file_extension": ".py",
   "mimetype": "text/x-python",
   "name": "python",
   "nbconvert_exporter": "python",
   "pygments_lexer": "ipython2",
   "version": "2.7.6"
  }
 },
 "nbformat": 4,
 "nbformat_minor": 0
}