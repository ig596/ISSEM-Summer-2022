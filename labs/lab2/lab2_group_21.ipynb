{
 "cells": [
  {
   "cell_type": "markdown",
   "metadata": {
    "collapsed": true,
    "pycharm": {
     "name": "#%% md\n"
    }
   },
   "source": [
    "# Lab 2\n",
    "Group Members: (Andrew Quijano, afq2003), (Isaiah Genis | ig596), (Jamie Leach | jhl925), (Yevhen Pankevych | yp2525)"
   ]
  },
  {
   "cell_type": "markdown",
   "metadata": {
    "pycharm": {
     "name": "#%% md\n"
    }
   },
   "source": [
    "## Problem 1\n",
    " - Cryptography:\n",
    " The study of concealing messages from unauthorized third parties. This is usually done with a key that would convert a message into a ciphertext which would look like a random message to anyone without the key. The key would also support converting the ciphertext back to the original message.\n",
    " \n",
    " - Encryption:\n",
    " This is the function in a cryptographic algorithm where given a key and plaintext, it would generate a ciphertext. A ciphertext should not leak any information of the plaintext and should look indistinguishable from random data.\n",
    " \n",
    " - Plain Text:\n",
    " The data that is to be protected with cryptography. This data would not look random compared to ciphertext.\n",
    " \n",
    " - Cipher Text:\n",
    " The outut of an encryption function.\n",
    " \n",
    " - Decryption:\n",
    " This is the function in a cryptographic algorithm where given a key and ciphertext, it would generate the plaintext used to create the ciphertext. The decryption function must always return the same plaintext that was the input to the encryption function. In other words  \n",
    " Decrypt(Encrypt(plaintext)) == plaintext\n",
    " \n",
    " - Double Strength Encryption:\n",
    " Double Strength Encryption is the process of encrypting an already encrypted text at least one more time. It is possible to encrypt it with the same or a different algorithm and/or different key(s).\n",
    " \n",
    " - Hybrid Encryption:\n",
    " This is the usage of both asymetric (public/private key pair) and symmetric (one key) encryption to obtain secure communication. This is done to obtain the benefits of the speed of symmetric encryption and convinience of sharing secrets using asymetric encryption. This is usually done when a client wants to communicate with a server, the client would send their symmetric key encrypted by a server's public key. The server can decrypt the symmetric key with their private key, and the client/server can use their symmetric key to communicate securely."
   ]
  },
  {
   "cell_type": "code",
   "execution_count": 21,
   "metadata": {
    "pycharm": {
     "name": "#%%\n"
    }
   },
   "outputs": [],
   "source": [
    "# Question 2\n",
    "import string\n",
    "def encrypt(word, key=3):\n",
    "    if not word.isalpha():\n",
    "        raise ValueError(\"Input is not alphabetic as requried.\")\n",
    "    ciphertext = \"\"\n",
    "    for character in word:\n",
    "        if character.isupper():\n",
    "            alphabet = list(string.ascii_uppercase)\n",
    "        else:\n",
    "            alphabet = list(string.ascii_lowercase)\n",
    "        ciphertext += alphabet[(alphabet.index(character)+key)%26]\n",
    "    return ciphertext\n",
    "\n",
    "\n",
    "def decrypt(word, key=3):\n",
    "    if not word.isalpha():\n",
    "        raise ValueError(\"Input is not alphabetic as requried.\")\n",
    "    plaintext = \"\"\n",
    "    for character in word:\n",
    "        if character.isupper():\n",
    "            alphabet = list(string.ascii_uppercase)\n",
    "        else:\n",
    "            alphabet = list(string.ascii_lowercase)\n",
    "        plaintext += alphabet[(alphabet.index(character) - key) % 26]\n",
    "    return plaintext\n",
    "\n",
    "# Test Case - Original (ZERO)\n",
    "plain = \"zero\"\n",
    "assert \"chur\" == encrypt(plain)\n",
    "assert plain == decrypt(encrypt(plain))\n",
    "\n",
    "# Test Case - Original (COOKIE)\n",
    "plain = \"COOKIE\"\n",
    "assert \"FRRNLH\" == encrypt(plain)\n",
    "assert plain == decrypt(encrypt(plain))\n",
    "\n",
    "# Test Case\n",
    "plain = \"USA\"\n",
    "assert plain == decrypt(encrypt(plain))\n",
    "\n",
    "plain = \"ISSEM\"\n",
    "assert plain == decrypt(encrypt(plain))\n",
    "\n",
    "plain = \"CHICAGO\"\n",
    "assert plain == decrypt(encrypt(plain))\n",
    "\n",
    "plain = \"CAPPUCCINO\"\n",
    "assert plain == decrypt(encrypt(plain))\n",
    "\n",
    "plain = \"ZUPPA\"\n",
    "assert plain == decrypt(encrypt(plain))\n",
    "\n",
    "plain = \"XAVIERS\"\n",
    "assert plain == decrypt(encrypt(plain))\n",
    "\n",
    "plain = \"YELLOW\"\n",
    "assert plain == decrypt(encrypt(plain))\n",
    "\n",
    "plain = \"SECURITY\"\n",
    "assert plain == decrypt(encrypt(plain))\n",
    "\n",
    "plain = \"CYBERHUB\"\n",
    "assert plain == decrypt(encrypt(plain))\n",
    "\n",
    "plain = \"HURRICANE\"\n",
    "assert plain == decrypt(encrypt(plain))\n"
   ]
  },
  {
   "cell_type": "markdown",
   "metadata": {
    "pycharm": {
     "name": "#%% md\n"
    }
   },
   "source": [
    "### Question 3\n",
    "*What is hash function in cryptography?*\n",
    "A hash function is an operation that takes a plaintext object of arbitrary length and produces a unique and repeatable fixed-length hash. This hash can not be reversed to the original plaintext to generate the hash.\n",
    "\n",
    "These are often used identify data as well as to validate integrity of data as the hash would change if the data/file was modified."
   ]
  },
  {
   "cell_type": "code",
   "execution_count": 22,
   "metadata": {
    "pycharm": {
     "name": "#%%\n"
    }
   },
   "outputs": [
    {
     "name": "stdout",
     "output_type": "stream",
     "text": [
      "ea2b9ab09f3ab6aefb8dbd8d93a511a22f7f8616872d78d1b8f81550b932e063\n"
     ]
    }
   ],
   "source": [
    "# Question 3B\n",
    "import hashlib\n",
    "def hash_message(message):\n",
    "    return hashlib.sha256(bytes(message,'utf-8')).hexdigest()\n",
    "message_from_lab = \"Information Systems Security Engineering and Management\"\n",
    "tmp = hash_message(message_from_lab)\n",
    "print(tmp)"
   ]
  },
  {
   "cell_type": "code",
   "execution_count": 23,
   "metadata": {
    "pycharm": {
     "name": "#%%\n"
    }
   },
   "outputs": [
    {
     "name": "stdout",
     "output_type": "stream",
     "text": [
      "Hashes Match: True\n"
     ]
    }
   ],
   "source": [
    "# Question 3C\n",
    "def hash_verify(message, old_hash):\n",
    "    new_hash = hashlib.sha256(bytes(message,'utf-8')).hexdigest()\n",
    "    if new_hash == old_hash:\n",
    "        return True\n",
    "    else:\n",
    "        return False\n",
    "\n",
    "# message_from_lab = \"hello\"\n",
    "print(f\"Hashes Match: {hash_verify(message_from_lab, tmp)}\")\n"
   ]
  }
 ],
 "metadata": {
  "kernelspec": {
   "display_name": "Python 3 (ipykernel)",
   "language": "python",
   "name": "python3"
  },
  "language_info": {
   "codemirror_mode": {
    "name": "ipython",
    "version": 3
   },
   "file_extension": ".py",
   "mimetype": "text/x-python",
   "name": "python",
   "nbconvert_exporter": "python",
   "pygments_lexer": "ipython3",
   "version": "3.9.7"
  }
 },
 "nbformat": 4,
 "nbformat_minor": 1
}
