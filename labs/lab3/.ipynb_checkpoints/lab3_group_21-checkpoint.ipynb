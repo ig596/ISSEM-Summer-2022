{
 "cells": [
  {
   "cell_type": "markdown",
   "metadata": {
    "collapsed": true,
    "pycharm": {
     "name": "#%% md\n"
    }
   },
   "source": [
    "# Lab 3\n",
    "Group Members: (Andrew Quijano, afq2003), (Isaiah Genis | ig596), (Jamie Leach | jhl925), (Yevhen Pankevych | yp2525)"
   ]
  },
  {
   "cell_type": "markdown",
   "metadata": {
    "pycharm": {
     "name": "#%% md\n"
    }
   },
   "source": [
    "## Problem 1\n",
    "Answer Following Questions:  \n",
    "a) Download the product sales data from the below link:  \n",
    "https://drive.google.com/file/d/19Xu297MPLVFTR2VuvDLUPRi3o36ijqW6/view?usp=sharing  \n",
    "Using Matplotlib library, plot the sales of each product for whole year (Y axis- Sales and X axis- Month). Use Dashed line for plot and different colors for each product.\n",
    "\n",
    "b) Using Math library calculate the following:\n",
    "- Ceiling of 435/6.\n",
    "- Floor of 2667/8.\n",
    "- Factorial of 25.\n",
    "- Sum of the elements of array:\n",
    "- [0.2, 0.33, 0.12, 0.57, 341.1, 23.77, 11.919, 9.1, 10.4, 4.4]\n",
    "\n",
    "c) Use time library to find what time following tuple represents:  \n",
    "t = (2007, 8, 10, 14, 20, 6, 7, 258, 0)  \n",
    "\n",
    "d) What is socket library in Python? Why is it used? Give one brief example.  \n",
    "\n",
    "e) What is multithreading?  \n",
    "Using Threading library, write a Python program to calculate the factorial of number 21 and square root of number 91.  "
   ]
  },
  {
   "cell_type": "code",
   "execution_count": 21,
   "metadata": {
    "pycharm": {
     "name": "#%%\n"
    }
   },
   "outputs": [],
   "source": [
    "# Question 1A"
   ]
  },
  {
   "cell_type": "code",
   "execution_count": 3,
   "metadata": {},
   "outputs": [
    {
     "data": {
      "text/plain": [
       "333"
      ]
     },
     "execution_count": 3,
     "metadata": {},
     "output_type": "execute_result"
    }
   ],
   "source": [
    "# Question 1B\n",
    "import math\n",
    "\n",
    "math.ceil(435/6)\n",
    "math.floor(2667/8)\n"
   ]
  },
  {
   "cell_type": "code",
   "execution_count": null,
   "metadata": {},
   "outputs": [],
   "source": [
    "# Question 1C"
   ]
  },
  {
   "cell_type": "code",
   "execution_count": null,
   "metadata": {},
   "outputs": [],
   "source": [
    "# Question 1D"
   ]
  },
  {
   "cell_type": "code",
   "execution_count": null,
   "metadata": {},
   "outputs": [],
   "source": [
    "# Question 1E"
   ]
  },
  {
   "cell_type": "markdown",
   "metadata": {
    "pycharm": {
     "name": "#%% md\n"
    }
   },
   "source": [
    "### Question 2\n",
    "Please answer the following:  \n",
    "a) Come up with three differences between symmetric and asymmetric encryption. Which one do you think is better? Explain why you think one is better than the other in a few sentences.\n",
    "\n",
    "b) Is AES 256 symmetric or asymmetric?"
   ]
  },
  {
   "cell_type": "markdown",
   "metadata": {},
   "source": [
    "### Question 3\n",
    "Pydantic is a helpful library for data parsing and validation. It coerces input types to the declared type (using type hints), accumulates all the errors using ValidationError & it’s also well documented, making it easily discoverable.\n",
    "\n",
    "a) Go over the documentation and try understanding how to use this library's methods.\n",
    "\n",
    "b) Go over pydantic.py, which has classes written in pydantic, and a write up of what each class does and how pydantic is used."
   ]
  },
  {
   "cell_type": "markdown",
   "metadata": {},
   "source": [
    "### Question 4\n",
    "Cerberus provides powerful yet simple and lightweight data validation functionality out of the box and is designed to be easily extensible, allowing for custom validation. It’s very similar to Pydantic and you go over the documentations here. It’s like Pydantic with slight variations.\n",
    "\n",
    "a) Go over this article and modify the code in the given article to add extra validations to the given schema. Mind you that you can add extra key value pairs to the dictionary itself and then add validations for those.\n",
    "\n",
    "b) Write your modifications."
   ]
  },
  {
   "cell_type": "code",
   "execution_count": null,
   "metadata": {},
   "outputs": [],
   "source": []
  }
 ],
 "metadata": {
  "kernelspec": {
   "display_name": "Python 3 (ipykernel)",
   "language": "python",
   "name": "python3"
  },
  "language_info": {
   "codemirror_mode": {
    "name": "ipython",
    "version": 3
   },
   "file_extension": ".py",
   "mimetype": "text/x-python",
   "name": "python",
   "nbconvert_exporter": "python",
   "pygments_lexer": "ipython3",
   "version": "3.9.7"
  }
 },
 "nbformat": 4,
 "nbformat_minor": 1
}
