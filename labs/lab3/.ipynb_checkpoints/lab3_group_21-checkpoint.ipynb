{
 "cells": [
  {
   "cell_type": "markdown",
   "metadata": {
    "pycharm": {
     "name": "#%% md\n"
    }
   },
   "source": [
    "# Lab 3\n",
    "Group Members: (Andrew Quijano, afq2003), (Isaiah Genis | ig596), (Jamie Leach | jhl925), (Yevhen Pankevych | yp2525)"
   ]
  },
  {
   "cell_type": "markdown",
   "metadata": {
    "pycharm": {
     "name": "#%% md\n"
    }
   },
   "source": [
    "## Problem 1\n",
    "Answer Following Questions:  \n",
    "a) Download the product sales data from the below link:  \n",
    "https://drive.google.com/file/d/19Xu297MPLVFTR2VuvDLUPRi3o36ijqW6/view?usp=sharing  \n",
    "\n",
    "\n",
    "Using Matplotlib library, plot the sales of each product for whole year (Y axis- Sales and X axis- Month). Use Dashed line for plot and different colors for each product.\n",
    "\n",
    "b) Using Math library calculate the following:\n",
    "- Ceiling of 435/6.\n",
    "- Floor of 2667/8.\n",
    "- Factorial of 25.\n",
    "- Sum of the elements of array:\n",
    "- [0.2, 0.33, 0.12, 0.57, 341.1, 23.77, 11.919, 9.1, 10.4, 4.4]\n",
    "\n",
    "c) Use time library to find what time following tuple represents:  \n",
    "t = (2007, 8, 10, 14, 20, 6, 7, 258, 0)  \n",
    "\n",
    "d) What is socket library in Python? Why is it used? Give one brief example.  \n",
    "\n",
    "e) What is multithreading?  \n",
    "Using Threading library, write a Python program to calculate the factorial of number 21 and square root of number 91.  "
   ]
  },
  {
   "cell_type": "code",
   "execution_count": 17,
   "metadata": {
    "pycharm": {
     "name": "#%%\n"
    }
   },
   "outputs": [
    {
     "name": "stdout",
     "output_type": "stream",
     "text": [
      "﻿month_number,facecream,facewash,toothpaste,bathinsoap,shampoo,moisturizer,total_profit\n",
      "\n",
      "1,2500,1500,5200,9200,1200,1500,\n",
      "\n",
      "2,2630,1200,5100,6100,2100,1200,\n",
      "\n",
      "3,2140,1340,4550,9550,3550,1340,\n",
      "\n",
      "4,3400,1130,5870,8870,1870,1130,\n",
      "\n",
      "5,3600,1740,4560,7760,1560,1740,\n",
      "\n",
      "6,2760,1555,4890,7490,1890,1555,\n",
      "\n",
      "7,2980,1120,4780,8980,1780,1120,\n",
      "\n",
      "8,3700,1400,5860,9960,2860,1400,\n",
      "\n",
      "9,3540,1780,6100,8100,2100,1780,\n",
      "\n",
      "10,1990,1890,8300,10300,2300,1890,\n",
      "\n",
      "11,2340,2100,7300,13300,2400,2100,\n",
      "\n",
      "12,2900,1760,7400,14400,1800,1760,\n",
      "\n"
     ]
    }
   ],
   "source": [
    "# Question 1A\n",
    "import matplotlib as plt\n",
    "\n",
    "# Download file contents\n",
    "with open('test.csv', 'r', encoding='utf-8') as fd:\n",
    "    for line in fd:\n",
    "        print(line)\n",
    "        \n",
    "# Plot lines\n",
    "\n"
   ]
  },
  {
   "cell_type": "code",
   "execution_count": 7,
   "metadata": {},
   "outputs": [
    {
     "name": "stdout",
     "output_type": "stream",
     "text": [
      "73\n",
      "333\n",
      "15511210043330985984000000\n",
      "401.90900000000005\n"
     ]
    }
   ],
   "source": [
    "# Question 1B\n",
    "import math\n",
    "\n",
    "print(math.ceil(435/6))\n",
    "print(math.floor(2667/8))\n",
    "print(math.factorial(25))\n",
    "print(math.fsum([0.2, 0.33, 0.12, 0.57, 341.1, 23.77, 11.919, 9.1, 10.4, 4.4]))\n"
   ]
  },
  {
   "cell_type": "code",
   "execution_count": 1,
   "metadata": {},
   "outputs": [
    {
     "data": {
      "text/plain": [
       "'Mon Aug 10 14:20:06 2007'"
      ]
     },
     "execution_count": 1,
     "metadata": {},
     "output_type": "execute_result"
    }
   ],
   "source": [
    "# Question 1C\n",
    "import time\n",
    "t = (2007, 8, 10, 14, 20, 6, 7, 258, 0)\n",
    "time.asctime(t)"
   ]
  },
  {
   "cell_type": "markdown",
   "metadata": {},
   "source": [
    "### Question 1D\n",
    "### What is socket library in Python? Why is it used? Give one brief example. \n",
    "The socket library allows your python program to use sockets. Sockets allow for communication between two devices over a network. One example of how it would be used is to create a web server. A server would use the socket library and use a server socket to receive connections on TCP port 80. A client would use a client socket and connect to the webserver with the IP address of the server at port 80. Once the connection is established, the server and client can communicate."
   ]
  },
  {
   "cell_type": "code",
   "execution_count": 10,
   "metadata": {},
   "outputs": [
    {
     "name": "stdout",
     "output_type": "stream",
     "text": [
      "15511210043330985984000000\n",
      "9.539392014169456\n"
     ]
    }
   ],
   "source": [
    "# Question 1E\n",
    "import threading\n",
    "import math\n",
    "\n",
    "def question_1d():\n",
    "    print(math.factorial(21))\n",
    "    print(math.sqrt(91))\n",
    "\n",
    "\n",
    "x = threading.Thread(target=question_1d)\n",
    "x.start()"
   ]
  },
  {
   "cell_type": "markdown",
   "metadata": {
    "pycharm": {
     "name": "#%% md\n"
    }
   },
   "source": [
    "### Question 2\n",
    "Please answer the following:  \n",
    "a) Come up with three differences between symmetric and asymmetric encryption. Which one do you think is better? Explain why you think one is better than the other in a few sentences.\n",
    "\n",
    "Differences:\n",
    "- Symmetric Encryption uses one key, asymmetric encryption uses two keys\n",
    "- Symmetric Encryption is much faster than asymmetric encryption\n",
    "- Asymmetric Encyprion supports digital signatures, via signing with the private key and verifying with the public key.\n",
    "\n",
    "Technically asymmetric encryption and symmetric encryption have thier own purposes. However, symmetric encryption is used much more frequently as it is much faster. If authentication is needed, then you can use HMAC with the symmetric key.\n",
    "\n",
    "b) Is AES-256 symmetric or asymmetric?  \n",
    "AES-256 is a symmetric encryption system"
   ]
  },
  {
   "cell_type": "markdown",
   "metadata": {},
   "source": [
    "### Question 3\n",
    "Pydantic is a helpful library for data parsing and validation. It coerces input types to the declared type (using type hints), accumulates all the errors using ValidationError & it’s also well documented, making it easily discoverable.\n",
    "\n",
    "a) Go over the documentation and try understanding how to use this library's methods.\n",
    "\n",
    "b) Go over pydantic.py, which has classes written in pydantic, and a write up of what each class does and how pydantic is used."
   ]
  },
  {
   "cell_type": "code",
   "execution_count": null,
   "metadata": {},
   "outputs": [],
   "source": [
    "# Inherits from the Exception class. This is used to generate the ISBNMissingError Exception.\n",
    "# The inheritance also is to help format the Exception message\n",
    "# This exception gets thrown if the Book class does not have an ISBN10 or ISBN13 key/value pair in the input data\n",
    "class ISBNMissingError(Exception):\n",
    "\n",
    "    def __init__(self, title: str, message: str) -> None:\n",
    "        self.title = title\n",
    "        self.message = message\n",
    "        super().__init__(message)\n",
    "\n",
    "\n",
    "# Inherits from the Exception class. This is used to generate the ISBN10FormatError Exception\n",
    "# The inheritance also is to help format the Exception message\n",
    "# This exception gets created if there checks for how ISBN10 format fails, see in the Book class\n",
    "class ISBN10FormatError(Exception):\n",
    "\n",
    "    def __init__(self, value: str, message: str) -> None:\n",
    "        self.value = value\n",
    "        self.message = message\n",
    "        super().__init__(message)\n",
    "\n",
    "        \n",
    "# This is to ensure the Author class would have a tuple of the name of the author in string, \n",
    "# and boolean type if the author is verified or not\n",
    "class Author(pydantic.BaseModel):\n",
    "    name: str\n",
    "    verified: bool\n"
   ]
  },
  {
   "cell_type": "code",
   "execution_count": null,
   "metadata": {},
   "outputs": [],
   "source": [
    "class Book(pydantic.BaseModel):\n",
    "\n",
    "    # All books should have the following fields and data types.\n",
    "    title: str # Titles must be type string\n",
    "    author: str # author must be type string\n",
    "    publisher: str # publisher must be type string\n",
    "    price: float # price is type floar\n",
    "        \n",
    "    # The following key/value pairs are NOT REQUIRED FOR BOOK CLASS\n",
    "    isbn_10: Optional[str] # isbn_10 is a string\n",
    "    isbn_13: Optional[str] # isbn_13 is a string\n",
    "    subtitle: Optional[str] # subtitle is a string\n",
    "    author2: Optional[Author] # author2 is a type Author, see Author class above.\n",
    "\n",
    "    # Root validator means this check is applied to all Books\n",
    "    # pre=True means Complete this check before field valiation occurs\n",
    "    @pydantic.root_validator(pre=True)\n",
    "    @classmethod\n",
    "    \n",
    "    # Check if the Book is missing isbn_10 and isbn_13 value\n",
    "    # if it is, throw an exception\n",
    "    def check_isbn_10_or_13(cls, values):\n",
    "        if \"isbn_10\" not in values and \"isbn_13\" not in values:\n",
    "            raise ISBNMissingError(\n",
    "                title=values[\"title\"],\n",
    "                message=\"Document should have either an ISBN10 or ISBN13\",\n",
    "            )\n",
    "        return values\n",
    "    \n",
    "    # This is a field validator for the isbn_10 field\n",
    "    # This checks if the isbn_10 value matches certain behavior\n",
    "    @pydantic.validator(\"isbn_10\")\n",
    "    @classmethod\n",
    "    def isbn_10_valid(cls, value) -> None:\n",
    "        \n",
    "        # obtain a list of characters in isbn_10 that is either a \"0\", \"1\", ..., \"9\", \"x\", \"X\".\n",
    "        chars = [c for c in value if c in \"0123456789Xx\"]\n",
    "        # If there not 10 characters in isbn_10 throw an exception\n",
    "        if len(chars) != 10:\n",
    "            raise ISBN10FormatError(value=value, message=\"ISBN10 should be 10 digits.\")\n",
    "\n",
    "        # convert a character into an int value.\n",
    "        # 'x' and 'X' is converted to 10\n",
    "        # '0' becomes 0, '1' becomes 1, etc.\n",
    "        def char_to_int(char: str) -> int:\n",
    "            if char in \"Xx\":\n",
    "                return 10\n",
    "            return int(char)\n",
    "        \n",
    "        # Check if the isbn_10 string value is divisible by 11 or not\n",
    "        # if it isn't divisble, throw an exception\n",
    "        if sum((10 - i) * char_to_int(x) for i, x in enumerate(chars)) % 11 != 0:\n",
    "            raise ISBN10FormatError(\n",
    "                value=value, message=\"ISBN10 digit sum should be divisible by 11.\"\n",
    "            )\n",
    "        return value\n",
    "\n",
    "    class Config:\n",
    "        # models are faux-immutable, __setattr__ is DISABLED!\n",
    "        allow_mutation = False\n",
    "        # make all characters lowercase for str & byte types\n",
    "        anystr_lower = True"
   ]
  },
  {
   "cell_type": "markdown",
   "metadata": {},
   "source": [
    "### Question 4\n",
    "Cerberus provides powerful yet simple and lightweight data validation functionality out of the box and is designed to be easily extensible, allowing for custom validation. It’s very similar to Pydantic and you go over the documentations here. It’s like Pydantic with slight variations.\n",
    "\n",
    "a) Go over this article and modify the code in the given article to add extra validations to the given schema. Mind you that you can add extra key value pairs to the dictionary itself and then add validations for those.\n",
    "\n",
    "b) Write your modifications."
   ]
  },
  {
   "cell_type": "code",
   "execution_count": 70,
   "metadata": {},
   "outputs": [],
   "source": [
    "from dataclasses import dataclass\n",
    "import datetime\n",
    "\n",
    "\n",
    "@dataclass\n",
    "class Customer:\n",
    "    id: int\n",
    "    name: str\n",
    "    accounts: list\n",
    "    contact_details: dict\n",
    "    role: str\n",
    "    last_activity_date: datetime.date = datetime.date.today()\n",
    "    access_right: str = \"\"\n",
    "    client_card_type: str = \"\"\n",
    "    "
   ]
  },
  {
   "cell_type": "code",
   "execution_count": 71,
   "metadata": {},
   "outputs": [],
   "source": [
    "schema = {\n",
    "  \"id\": {\n",
    "    \"type\": \"integer\",\n",
    "    \"min\": 0,\n",
    "    \"max\": 100,\n",
    "    \"required\": True\n",
    "  },\n",
    "  \"name\": {\n",
    "    \"type\": \"string\",\n",
    "    \"minlength\": 2,\n",
    "    \"maxlength\": 255,\n",
    "    \"required\": True\n",
    "  },\n",
    "  \"accounts\": {\n",
    "    \"type\": \"list\",\n",
    "    \"schema\": {\n",
    "      \"type\": \"integer\",\n",
    "      \"min\": 0,\n",
    "      \"max\": 100\n",
    "    }\n",
    "  },\n",
    "  \"contact_details\": {\n",
    "    \"type\": \"dict\",\n",
    "    \"require_all\": True,  # let every field be required\n",
    "    \"schema\": {\n",
    "      \"phone\": {\n",
    "        \"type\": \"string\",\n",
    "        \"minlength\": 11,\n",
    "        \"maxlength\": 11,\n",
    "        \"regex\": \"^0[0-9]{10}$\"\n",
    "      },\n",
    "      \"email\": {\n",
    "        \"type\": \"string\",\n",
    "        \"minlength\": 2,\n",
    "        \"maxlength\": 255,\n",
    "        \"required\": True,\n",
    "        \"regex\": \"^[a-zA-Z0-9_.+-]+@[a-zA-Z0-9-]+\\\\.[a-zA-Z0-9-.]+$\"\n",
    "      }\n",
    "    }\n",
    "  },\n",
    "  \"role\": {  # add field role only with 2 allowed values\n",
    "    \"type\": \"string\", \n",
    "    \"allowed\": ['client', 'supplier']\n",
    "  },\n",
    "  \"access_right\": {  # add field access_right which can be set only if role == supplier\n",
    "      \"type\": \"string\",\n",
    "      \"excludes\": 'client_card_type',  # no client_card_type field if this field if present\n",
    "      \"empty\": False,  # and it can`t be empty\n",
    "      'dependencies': {\n",
    "        \"role\": ['supplier'],\n",
    "      },\n",
    "      \"anyof\": [{\"minlength\": 2, \"maxlength\": 5}, {\"minlength\": 10, \"maxlength\": 15}]  # 2-5 or 10-15 characters\n",
    "  },\n",
    "  \"client_card_type\": {  # add field access_right which can be set only if role == client\n",
    "    \"type\": \"string\",\n",
    "    \"excludes\": 'access_right',  # no access_right field if this field if present\n",
    "    \"empty\": False,  # and it can`t be empty\n",
    "    \"forbidden\": ['root', 'admin'],  # no such values allowed for the field\n",
    "    'dependencies': {\n",
    "      \"role\": ['client'],\n",
    "    }\n",
    "  },\n",
    "  \"last_activity_date\": {  # and create date field\n",
    "    \"type\": \"date\",\n",
    "  }\n",
    "}\n"
   ]
  },
  {
   "cell_type": "code",
   "execution_count": 72,
   "metadata": {},
   "outputs": [],
   "source": [
    "import json\n",
    "import os\n",
    "\n",
    "from cerberus import Validator\n",
    "\n",
    "\n",
    "class Api:\n",
    "    def create_customer(self, payload: dict) -> Customer:\n",
    "        \"\"\"\n",
    "        validates payload and - only if valid - instantiates a Customer\n",
    "        :param payload: payload containing Customer details\n",
    "        :return: newly instantiated Customer if payload is valid\n",
    "        \"\"\"\n",
    "        self.validate_payload(payload)\n",
    "\n",
    "        return Customer(**payload)\n",
    "\n",
    "    @staticmethod\n",
    "    def validate_payload(payload: dict):\n",
    "        \"\"\"\n",
    "        validate payload against a Cerberus schema\n",
    "        :param payload: payload to be validated\n",
    "        :return: nothing\n",
    "        \"\"\"\n",
    "        validator = Validator()\n",
    "        validator.validate(payload, schema)\n",
    "\n",
    "        if validator.errors:\n",
    "            print(f\"Validation failed: {validator.errors}\")\n",
    "        else:\n",
    "            print(\"OK\")\n"
   ]
  },
  {
   "cell_type": "code",
   "execution_count": 81,
   "metadata": {},
   "outputs": [
    {
     "name": "stdout",
     "output_type": "stream",
     "text": [
      "Running: {'id': 20, 'name': 'Hello', 'accounts': [30, 17, '49'], 'contact_details': {'phone': '01234567891'}, 'role': 'student', 'access_right': 'admin', 'client_card_type': 'root'}\n",
      "Validation failed: {'access_right': [\"depends on these values: {'role': ['supplier']}\", \"'client_card_type' must not be present with 'access_right'\"], 'accounts': [{2: ['must be of integer type']}], 'client_card_type': [\"depends on these values: {'role': ['client']}\", \"'access_right' must not be present with 'client_card_type'\", 'unallowed value root'], 'contact_details': [{'email': ['required field']}], 'role': ['unallowed value student']}\n",
      "\n",
      "Running: {'id': 20, 'name': 'Hello', 'accounts': [30, 17, 49], 'contact_details': {'phone': '01234567891', 'email': 'example@example.com'}, 'role': 'client', 'client_card_type': 'premium'}\n",
      "OK\n",
      "\n",
      "Running: {'id': 20, 'name': 'Hello', 'accounts': [30, 17, 49], 'contact_details': {'phone': '01234567891', 'email': 'example@example.com'}, 'role': 'client', 'access_right': 'admin'}\n",
      "Validation failed: {'access_right': [\"depends on these values: {'role': ['supplier']}\"]}\n",
      "\n",
      "Running: {'id': 20, 'name': 'Hello', 'accounts': [30, 17, 49], 'contact_details': {'phone': '01234567891', 'email': 'example@example.com'}, 'role': 'supplier', 'access_right': 'admin'}\n",
      "OK\n",
      "\n",
      "Running: {'id': 20, 'name': 'Hello', 'accounts': [30, 17, 49], 'contact_details': {'phone': '01234567891', 'email': 'example@example.com'}, 'role': 'supplier', 'access_right': 'myadmin'}\n",
      "Validation failed: {'access_right': ['no definitions validate', {'anyof definition 0': ['max length is 5'], 'anyof definition 1': ['min length is 10']}]}\n",
      "\n",
      "Running: {'id': 20, 'name': 'Hello', 'accounts': [30, 17, 49], 'contact_details': {'phone': '01234567891', 'email': 'example@example.com'}, 'role': 'supplier', 'access_right': 'systemadmin', 'last_activity_date': datetime.date(2021, 8, 24)}\n",
      "OK\n",
      "\n",
      "\n"
     ]
    }
   ],
   "source": [
    "# and tests\n",
    "\n",
    "test_entries = [\n",
    "    {\n",
    "        \"id\": 20,\n",
    "        \"name\": \"Hello\",\n",
    "        \"accounts\": [30, 17, \"49\"],\n",
    "        \"contact_details\": {\n",
    "          \"phone\": \"01234567891\",\n",
    "        },\n",
    "        \"role\": \"student\",\n",
    "        \"access_right\": \"admin\",\n",
    "        \"client_card_type\": \"root\",\n",
    "    },\n",
    "    \n",
    "    {\n",
    "        \"id\": 20,\n",
    "        \"name\": \"Hello\",\n",
    "        \"accounts\": [30, 17, 49],\n",
    "        \"contact_details\": {\n",
    "          \"phone\": \"01234567891\",\n",
    "          \"email\": \"example@example.com\"\n",
    "        },\n",
    "        \"role\": \"client\",\n",
    "        \"client_card_type\": \"premium\",\n",
    "    },\n",
    "    \n",
    "    {\n",
    "        \"id\": 20,\n",
    "        \"name\": \"Hello\",\n",
    "        \"accounts\": [30, 17, 49],\n",
    "        \"contact_details\": {\n",
    "          \"phone\": \"01234567891\",\n",
    "          \"email\": \"example@example.com\"\n",
    "        },\n",
    "        \"role\": \"client\",\n",
    "        \"access_right\": \"admin\",\n",
    "    },\n",
    "    \n",
    "    {\n",
    "        \"id\": 20,\n",
    "        \"name\": \"Hello\",\n",
    "        \"accounts\": [30, 17, 49],\n",
    "        \"contact_details\": {\n",
    "          \"phone\": \"01234567891\",\n",
    "          \"email\": \"example@example.com\"\n",
    "        },\n",
    "        \"role\": \"supplier\",\n",
    "        \"access_right\": \"admin\",\n",
    "    },\n",
    "    \n",
    "    {\n",
    "        \"id\": 20,\n",
    "        \"name\": \"Hello\",\n",
    "        \"accounts\": [30, 17, 49],\n",
    "        \"contact_details\": {\n",
    "          \"phone\": \"01234567891\",\n",
    "          \"email\": \"example@example.com\"\n",
    "        },\n",
    "        \"role\": \"supplier\",\n",
    "        \"access_right\": \"myadmin\",\n",
    "    },\n",
    "    \n",
    "    {\n",
    "        \"id\": 20,\n",
    "        \"name\": \"Hello\",\n",
    "        \"accounts\": [30, 17, 49],\n",
    "        \"contact_details\": {\n",
    "          \"phone\": \"01234567891\",\n",
    "          \"email\": \"example@example.com\"\n",
    "        },\n",
    "        \"role\": \"supplier\",\n",
    "        \"access_right\": \"systemadmin\",\n",
    "        \"last_activity_date\": datetime.datetime.strptime('24.08.2021', \"%d.%m.%Y\").date()\n",
    "    },\n",
    "]\n",
    "\n",
    "for entry in test_entries:\n",
    "    print(f\"Running: {entry}\")\n",
    "    Api().create_customer(entry)\n",
    "    print()\n",
    "\n",
    "print()"
   ]
  },
  {
   "cell_type": "code",
   "execution_count": null,
   "metadata": {},
   "outputs": [],
   "source": []
  },
  {
   "cell_type": "code",
   "execution_count": null,
   "metadata": {},
   "outputs": [],
   "source": []
  }
 ],
 "metadata": {
  "kernelspec": {
   "display_name": "Python 3 (ipykernel)",
   "language": "python",
   "name": "python3"
  },
  "language_info": {
   "codemirror_mode": {
    "name": "ipython",
    "version": 3
   },
   "file_extension": ".py",
   "mimetype": "text/x-python",
   "name": "python",
   "nbconvert_exporter": "python",
   "pygments_lexer": "ipython3",
   "version": "3.9.7"
  }
 },
 "nbformat": 4,
 "nbformat_minor": 4
}
