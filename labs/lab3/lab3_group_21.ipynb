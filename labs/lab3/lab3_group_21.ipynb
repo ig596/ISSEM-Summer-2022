{
 "cells": [
  {
   "cell_type": "markdown",
   "metadata": {
    "pycharm": {
     "name": "#%% md\n"
    }
   },
   "source": [
    "# Lab 3\n",
    "Group Members: (Andrew Quijano, afq2003), (Isaiah Genis | ig596), (Jamie Leach | jhl925), (Yevhen Pankevych | yp2525)"
   ]
  },
  {
   "cell_type": "markdown",
   "metadata": {
    "pycharm": {
     "name": "#%% md\n"
    }
   },
   "source": [
    "## Problem 1\n",
    "Answer Following Questions:  \n",
    "a) Download the product sales data from the below link:  \n",
    "https://drive.google.com/file/d/19Xu297MPLVFTR2VuvDLUPRi3o36ijqW6/view?usp=sharing  \n",
    "Using Matplotlib library, plot the sales of each product for whole year (Y axis- Sales and X axis- Month). Use Dashed line for plot and different colors for each product.\n",
    "\n",
    "b) Using Math library calculate the following:\n",
    "- Ceiling of 435/6.\n",
    "- Floor of 2667/8.\n",
    "- Factorial of 25.\n",
    "- Sum of the elements of array:\n",
    "- [0.2, 0.33, 0.12, 0.57, 341.1, 23.77, 11.919, 9.1, 10.4, 4.4]\n",
    "\n",
    "c) Use time library to find what time following tuple represents:  \n",
    "t = (2007, 8, 10, 14, 20, 6, 7, 258, 0)  \n",
    "\n",
    "d) What is socket library in Python? Why is it used? Give one brief example.  \n",
    "\n",
    "e) What is multithreading?  \n",
    "Using Threading library, write a Python program to calculate the factorial of number 21 and square root of number 91.  "
   ]
  },
  {
   "cell_type": "code",
   "execution_count": 21,
   "metadata": {
    "pycharm": {
     "name": "#%%\n"
    }
   },
   "outputs": [],
   "source": [
    "# Question 1A\n",
    "import matplotlib as plt"
   ]
  },
  {
   "cell_type": "code",
   "execution_count": 5,
   "metadata": {},
   "outputs": [
    {
     "data": {
      "text/plain": [
       "401.90900000000005"
      ]
     },
     "execution_count": 5,
     "metadata": {},
     "output_type": "execute_result"
    }
   ],
   "source": [
    "# Question 1B\n",
    "import math\n",
    "\n",
    "math.ceil(435/6)\n",
    "math.floor(2667/8)\n",
    "math.factorial(25)\n",
    "math.fsum([0.2, 0.33, 0.12, 0.57, 341.1, 23.77, 11.919, 9.1, 10.4, 4.4])\n"
   ]
  },
  {
   "cell_type": "code",
   "execution_count": null,
   "metadata": {},
   "outputs": [],
   "source": [
    "# Question 1C\n",
    "import time\n",
    "t = (2007, 8, 10, 14, 20, 6, 7, 258, 0) "
   ]
  },
  {
   "cell_type": "markdown",
   "metadata": {},
   "source": [
    "### Question 1D\n",
    "The socket library is so your python program can communicate over the network. One example of how it would be used is to create a basic web server."
   ]
  },
  {
   "cell_type": "code",
   "execution_count": null,
   "metadata": {},
   "outputs": [],
   "source": [
    "# Question 1E"
   ]
  },
  {
   "cell_type": "markdown",
   "metadata": {
    "pycharm": {
     "name": "#%% md\n"
    }
   },
   "source": [
    "### Question 2\n",
    "Please answer the following:  \n",
    "a) Come up with three differences between symmetric and asymmetric encryption. Which one do you think is better? Explain why you think one is better than the other in a few sentences.\n",
    "\n",
    "Differences:\n",
    "- a\n",
    "- b\n",
    "- c\n",
    "\n",
    "\n",
    "\n",
    "b) Is AES-256 symmetric or asymmetric?\n",
    "AES-256 is a symmetric encryption system"
   ]
  },
  {
   "cell_type": "markdown",
   "metadata": {},
   "source": [
    "### Question 3\n",
    "Pydantic is a helpful library for data parsing and validation. It coerces input types to the declared type (using type hints), accumulates all the errors using ValidationError & it’s also well documented, making it easily discoverable.\n",
    "\n",
    "a) Go over the documentation and try understanding how to use this library's methods.\n",
    "\n",
    "b) Go over pydantic.py, which has classes written in pydantic, and a write up of what each class does and how pydantic is used."
   ]
  },
  {
   "cell_type": "markdown",
   "metadata": {},
   "source": [
    "### Question 4\n",
    "Cerberus provides powerful yet simple and lightweight data validation functionality out of the box and is designed to be easily extensible, allowing for custom validation. It’s very similar to Pydantic and you go over the documentations here. It’s like Pydantic with slight variations.\n",
    "\n",
    "a) Go over this article and modify the code in the given article to add extra validations to the given schema. Mind you that you can add extra key value pairs to the dictionary itself and then add validations for those.\n",
    "\n",
    "b) Write your modifications."
   ]
  },
  {
   "cell_type": "code",
   "execution_count": 70,
   "metadata": {},
   "outputs": [],
   "source": [
    "from dataclasses import dataclass\n",
    "import datetime\n",
    "\n",
    "\n",
    "@dataclass\n",
    "class Customer:\n",
    "    id: int\n",
    "    name: str\n",
    "    accounts: list\n",
    "    contact_details: dict\n",
    "    role: str\n",
    "    last_activity_date: datetime.date = datetime.date.today()\n",
    "    access_right: str = \"\"\n",
    "    client_card_type: str = \"\"\n",
    "    "
   ]
  },
  {
   "cell_type": "code",
   "execution_count": 71,
   "metadata": {},
   "outputs": [],
   "source": [
    "schema = {\n",
    "  \"id\": {\n",
    "    \"type\": \"integer\",\n",
    "    \"min\": 0,\n",
    "    \"max\": 100,\n",
    "    \"required\": True\n",
    "  },\n",
    "  \"name\": {\n",
    "    \"type\": \"string\",\n",
    "    \"minlength\": 2,\n",
    "    \"maxlength\": 255,\n",
    "    \"required\": True\n",
    "  },\n",
    "  \"accounts\": {\n",
    "    \"type\": \"list\",\n",
    "    \"schema\": {\n",
    "      \"type\": \"integer\",\n",
    "      \"min\": 0,\n",
    "      \"max\": 100\n",
    "    }\n",
    "  },\n",
    "  \"contact_details\": {\n",
    "    \"type\": \"dict\",\n",
    "    \"require_all\": True,  # let every field be required\n",
    "    \"schema\": {\n",
    "      \"phone\": {\n",
    "        \"type\": \"string\",\n",
    "        \"minlength\": 11,\n",
    "        \"maxlength\": 11,\n",
    "        \"regex\": \"^0[0-9]{10}$\"\n",
    "      },\n",
    "      \"email\": {\n",
    "        \"type\": \"string\",\n",
    "        \"minlength\": 2,\n",
    "        \"maxlength\": 255,\n",
    "        \"required\": True,\n",
    "        \"regex\": \"^[a-zA-Z0-9_.+-]+@[a-zA-Z0-9-]+\\\\.[a-zA-Z0-9-.]+$\"\n",
    "      }\n",
    "    }\n",
    "  },\n",
    "  \"role\": {  # add field role only with 2 allowed values\n",
    "    \"type\": \"string\", \n",
    "    \"allowed\": ['client', 'supplier']\n",
    "  },\n",
    "  \"access_right\": {  # add field access_right which can be set only if role == supplier\n",
    "      \"type\": \"string\",\n",
    "      \"excludes\": 'client_card_type',  # no client_card_type field if this field if present\n",
    "      \"empty\": False,  # and it can`t be empty\n",
    "      'dependencies': {\n",
    "        \"role\": ['supplier'],\n",
    "      },\n",
    "      \"anyof\": [{\"minlength\": 2, \"maxlength\": 5}, {\"minlength\": 10, \"maxlength\": 15}]  # 2-5 or 10-15 characters\n",
    "  },\n",
    "  \"client_card_type\": {  # add field access_right which can be set only if role == client\n",
    "    \"type\": \"string\",\n",
    "    \"excludes\": 'access_right',  # no access_right field if this field if present\n",
    "    \"empty\": False,  # and it can`t be empty\n",
    "    \"forbidden\": ['root', 'admin'],  # no such values allowed for the field\n",
    "    'dependencies': {\n",
    "      \"role\": ['client'],\n",
    "    }\n",
    "  },\n",
    "  \"last_activity_date\": {  # and create date field\n",
    "    \"type\": \"date\",\n",
    "  }\n",
    "}\n"
   ]
  },
  {
   "cell_type": "code",
   "execution_count": 72,
   "metadata": {},
   "outputs": [],
   "source": [
    "import json\n",
    "import os\n",
    "\n",
    "from cerberus import Validator\n",
    "\n",
    "\n",
    "class Api:\n",
    "    def create_customer(self, payload: dict) -> Customer:\n",
    "        \"\"\"\n",
    "        validates payload and - only if valid - instantiates a Customer\n",
    "        :param payload: payload containing Customer details\n",
    "        :return: newly instantiated Customer if payload is valid\n",
    "        \"\"\"\n",
    "        self.validate_payload(payload)\n",
    "\n",
    "        return Customer(**payload)\n",
    "\n",
    "    @staticmethod\n",
    "    def validate_payload(payload: dict):\n",
    "        \"\"\"\n",
    "        validate payload against a Cerberus schema\n",
    "        :param payload: payload to be validated\n",
    "        :return: nothing\n",
    "        \"\"\"\n",
    "        validator = Validator()\n",
    "        validator.validate(payload, schema)\n",
    "\n",
    "        if validator.errors:\n",
    "            print(f\"Validation failed: {validator.errors}\")\n",
    "        else:\n",
    "            print(\"OK\")\n"
   ]
  },
  {
   "cell_type": "code",
   "execution_count": 81,
   "metadata": {},
   "outputs": [
    {
     "name": "stdout",
     "output_type": "stream",
     "text": [
      "Running: {'id': 20, 'name': 'Hello', 'accounts': [30, 17, '49'], 'contact_details': {'phone': '01234567891'}, 'role': 'student', 'access_right': 'admin', 'client_card_type': 'root'}\n",
      "Validation failed: {'access_right': [\"depends on these values: {'role': ['supplier']}\", \"'client_card_type' must not be present with 'access_right'\"], 'accounts': [{2: ['must be of integer type']}], 'client_card_type': [\"depends on these values: {'role': ['client']}\", \"'access_right' must not be present with 'client_card_type'\", 'unallowed value root'], 'contact_details': [{'email': ['required field']}], 'role': ['unallowed value student']}\n",
      "\n",
      "Running: {'id': 20, 'name': 'Hello', 'accounts': [30, 17, 49], 'contact_details': {'phone': '01234567891', 'email': 'example@example.com'}, 'role': 'client', 'client_card_type': 'premium'}\n",
      "OK\n",
      "\n",
      "Running: {'id': 20, 'name': 'Hello', 'accounts': [30, 17, 49], 'contact_details': {'phone': '01234567891', 'email': 'example@example.com'}, 'role': 'client', 'access_right': 'admin'}\n",
      "Validation failed: {'access_right': [\"depends on these values: {'role': ['supplier']}\"]}\n",
      "\n",
      "Running: {'id': 20, 'name': 'Hello', 'accounts': [30, 17, 49], 'contact_details': {'phone': '01234567891', 'email': 'example@example.com'}, 'role': 'supplier', 'access_right': 'admin'}\n",
      "OK\n",
      "\n",
      "Running: {'id': 20, 'name': 'Hello', 'accounts': [30, 17, 49], 'contact_details': {'phone': '01234567891', 'email': 'example@example.com'}, 'role': 'supplier', 'access_right': 'myadmin'}\n",
      "Validation failed: {'access_right': ['no definitions validate', {'anyof definition 0': ['max length is 5'], 'anyof definition 1': ['min length is 10']}]}\n",
      "\n",
      "Running: {'id': 20, 'name': 'Hello', 'accounts': [30, 17, 49], 'contact_details': {'phone': '01234567891', 'email': 'example@example.com'}, 'role': 'supplier', 'access_right': 'systemadmin', 'last_activity_date': datetime.date(2021, 8, 24)}\n",
      "OK\n",
      "\n",
      "\n"
     ]
    }
   ],
   "source": [
    "# and tests\n",
    "\n",
    "test_entries = [\n",
    "    {\n",
    "        \"id\": 20,\n",
    "        \"name\": \"Hello\",\n",
    "        \"accounts\": [30, 17, \"49\"],\n",
    "        \"contact_details\": {\n",
    "          \"phone\": \"01234567891\",\n",
    "        },\n",
    "        \"role\": \"student\",\n",
    "        \"access_right\": \"admin\",\n",
    "        \"client_card_type\": \"root\",\n",
    "    },\n",
    "    \n",
    "    {\n",
    "        \"id\": 20,\n",
    "        \"name\": \"Hello\",\n",
    "        \"accounts\": [30, 17, 49],\n",
    "        \"contact_details\": {\n",
    "          \"phone\": \"01234567891\",\n",
    "          \"email\": \"example@example.com\"\n",
    "        },\n",
    "        \"role\": \"client\",\n",
    "        \"client_card_type\": \"premium\",\n",
    "    },\n",
    "    \n",
    "    {\n",
    "        \"id\": 20,\n",
    "        \"name\": \"Hello\",\n",
    "        \"accounts\": [30, 17, 49],\n",
    "        \"contact_details\": {\n",
    "          \"phone\": \"01234567891\",\n",
    "          \"email\": \"example@example.com\"\n",
    "        },\n",
    "        \"role\": \"client\",\n",
    "        \"access_right\": \"admin\",\n",
    "    },\n",
    "    \n",
    "    {\n",
    "        \"id\": 20,\n",
    "        \"name\": \"Hello\",\n",
    "        \"accounts\": [30, 17, 49],\n",
    "        \"contact_details\": {\n",
    "          \"phone\": \"01234567891\",\n",
    "          \"email\": \"example@example.com\"\n",
    "        },\n",
    "        \"role\": \"supplier\",\n",
    "        \"access_right\": \"admin\",\n",
    "    },\n",
    "    \n",
    "    {\n",
    "        \"id\": 20,\n",
    "        \"name\": \"Hello\",\n",
    "        \"accounts\": [30, 17, 49],\n",
    "        \"contact_details\": {\n",
    "          \"phone\": \"01234567891\",\n",
    "          \"email\": \"example@example.com\"\n",
    "        },\n",
    "        \"role\": \"supplier\",\n",
    "        \"access_right\": \"myadmin\",\n",
    "    },\n",
    "    \n",
    "    {\n",
    "        \"id\": 20,\n",
    "        \"name\": \"Hello\",\n",
    "        \"accounts\": [30, 17, 49],\n",
    "        \"contact_details\": {\n",
    "          \"phone\": \"01234567891\",\n",
    "          \"email\": \"example@example.com\"\n",
    "        },\n",
    "        \"role\": \"supplier\",\n",
    "        \"access_right\": \"systemadmin\",\n",
    "        \"last_activity_date\": datetime.datetime.strptime('24.08.2021', \"%d.%m.%Y\").date()\n",
    "    },\n",
    "]\n",
    "\n",
    "for entry in test_entries:\n",
    "    print(f\"Running: {entry}\")\n",
    "    Api().create_customer(entry)\n",
    "    print()\n",
    "\n",
    "print()"
   ]
  },
  {
   "cell_type": "code",
   "execution_count": null,
   "metadata": {},
   "outputs": [],
   "source": []
  },
  {
   "cell_type": "code",
   "execution_count": null,
   "metadata": {},
   "outputs": [],
   "source": []
  }
 ],
 "metadata": {
  "kernelspec": {
   "display_name": "Python 3",
   "language": "python",
   "name": "python3"
  },
  "language_info": {
   "codemirror_mode": {
    "name": "ipython",
    "version": 3
   },
   "file_extension": ".py",
   "mimetype": "text/x-python",
   "name": "python",
   "nbconvert_exporter": "python",
   "pygments_lexer": "ipython3",
   "version": "3.9.7"
  }
 },
 "nbformat": 4,
 "nbformat_minor": 4
}
